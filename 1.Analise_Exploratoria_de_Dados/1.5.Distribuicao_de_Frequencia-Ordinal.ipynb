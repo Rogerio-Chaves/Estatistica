{
 "cells": [
  {
   "cell_type": "markdown",
   "id": "5b8b35d2",
   "metadata": {},
   "source": [
    "# 1.5. Tabela de Distribuição de Frequência\n",
    "\n",
    "\n",
    "Creation on August 9 2021.\n",
    "\n",
    "Last modification on September 03 2022.\n",
    "\n",
    "@author: Rogerio Chaves\n",
    "\n",
    "E-mail: chaves.rogerio@outlook.com"
   ]
  },
  {
   "cell_type": "markdown",
   "id": "9425fec3",
   "metadata": {},
   "source": [
    "__O que é uma Tabela de Distribuição de Frequência?__\n",
    "\n",
    "Uma tabela de distribuição de frequência tem por objetivo organizar o conjunto de dados sobre uma variável em uma grupos (que será chamado de classes), onde a partir de suas frquências pode-se de obter algumas informações, de outra forma, \"[...] conhecer o _comportamento_ dessa variável, analisando a ocorrência de suas possíveis realizações.\"(BUSSAB e MORETTIN, 2004)"
   ]
  },
  {
   "cell_type": "markdown",
   "id": "2af2d995",
   "metadata": {},
   "source": [
    "Importar as bibliotecas"
   ]
  },
  {
   "cell_type": "code",
   "execution_count": 138,
   "id": "5edc76d3",
   "metadata": {},
   "outputs": [],
   "source": [
    "import numpy as np\n",
    "import pandas as pd\n",
    "from math import sqrt,ceil\n",
    "from statistics import mean, median, mode, pstdev\n",
    "import matplotlib.pyplot as plt\n",
    "import matplotlib.style as style"
   ]
  },
  {
   "cell_type": "code",
   "execution_count": 139,
   "id": "c49f5338",
   "metadata": {},
   "outputs": [],
   "source": [
    "style.use('seaborn')"
   ]
  },
  {
   "cell_type": "markdown",
   "id": "b6d2f83a",
   "metadata": {},
   "source": [
    "## Variável qualitativa ordinal\n",
    "\n",
    "Definir o conjunto de dados.\n",
    "\n",
    "Neste exemplo trata-se de um conjunto de dados de 40 funcionários da Empresa A."
   ]
  },
  {
   "cell_type": "code",
   "execution_count": 140,
   "id": "a36a8b89",
   "metadata": {},
   "outputs": [],
   "source": [
    "employees = ['Médio', 'Médio', 'Médio', 'Médio','Médio', 'Superior', 'Técnico', 'Médio', 'Técnico', \n",
    "             'Superior', 'Médio', 'Médio', 'Médio', 'Técnico', 'Superior', 'Médio', 'Fundamental', 'Médio', \n",
    "             'Superior', 'Técnico', 'Médio', 'Médio', 'Fundamental', 'Técnico', 'Médio', 'Superior', 'Médio', \n",
    "             'Médio', 'Técnico', 'Técnico', 'Superior', 'Médio', 'Médio', 'Fundamental', 'Superior', 'Médio', \n",
    "             'Superior', 'Fundamental', 'Médio', 'Superior']"
   ]
  },
  {
   "cell_type": "markdown",
   "id": "54026141",
   "metadata": {},
   "source": [
    "A melhor forma de obter informações desse conjunto de dados é contruir diretamente a tabela de dados, porém com os dados ainda na forma bruta podemos obter a marca ou marcas de maior ocorrência a partir da moda."
   ]
  },
  {
   "cell_type": "code",
   "execution_count": 141,
   "id": "c4c9d8d3",
   "metadata": {},
   "outputs": [
    {
     "data": {
      "text/plain": [
       "'Médio'"
      ]
     },
     "execution_count": 141,
     "metadata": {},
     "output_type": "execute_result"
    }
   ],
   "source": [
    "mode(employees)"
   ]
  },
  {
   "cell_type": "markdown",
   "id": "f305b37b",
   "metadata": {},
   "source": [
    "Devido a variável ser uma varíavel qualitativa não é possível calcular a média e a mediana. Além disso, a informação do que ambas representam não traz muito significado para o tipo de variável analisada.\n",
    "\n",
    "Ao aplicarmos o cálculo da moda, vemos que para esse conjunto de dados o nível médio é o que tem maior ocorrência em todo o conjunto, o que mostra que o nível médio é a escolaridade com maior ocorrência."
   ]
  },
  {
   "cell_type": "markdown",
   "id": "ace79c93",
   "metadata": {},
   "source": [
    "__Atenção:__ Para construir a tabela de distribuição de frequência precisamos compreender a classificação da nossa variável, recomenda-se a leitura do _notebook_ sobre classificação de variáveis <link>. A variável do exemplo dado, sobre a escolaridade de 40 funcionários da Empresa A é uma varíavel do tipo qualitativa ordinal."
   ]
  },
  {
   "cell_type": "markdown",
   "id": "032ce0c8",
   "metadata": {},
   "source": [
    "Por se tratar de uma varável qualitativa não calcularemos o número de classes e a amplitude total, pois os níveis de escolaridade serão as proprias classes da tabela."
   ]
  },
  {
   "cell_type": "code",
   "execution_count": 142,
   "id": "ff359b6b",
   "metadata": {},
   "outputs": [],
   "source": [
    "scholarity = list(pd.DataFrame(employees).groupby(by=0).count()[:].reset_index()[0])"
   ]
  },
  {
   "cell_type": "code",
   "execution_count": 143,
   "id": "5b001d3b",
   "metadata": {},
   "outputs": [
    {
     "data": {
      "text/plain": [
       "['Fundamental', 'Médio', 'Superior', 'Técnico']"
      ]
     },
     "execution_count": 143,
     "metadata": {},
     "output_type": "execute_result"
    }
   ],
   "source": [
    "scholarity"
   ]
  },
  {
   "cell_type": "code",
   "execution_count": 144,
   "id": "bfe6e204",
   "metadata": {},
   "outputs": [],
   "source": [
    "#fi: absolute frequency\n",
    "fi = {}\n",
    "for value in scholarity:\n",
    "    frequency = 0\n",
    "    for employee in employees:\n",
    "        if employee == value:\n",
    "            frequency += 1\n",
    "    fi[value] = frequency"
   ]
  },
  {
   "cell_type": "code",
   "execution_count": 145,
   "id": "4e9a04fb",
   "metadata": {},
   "outputs": [],
   "source": [
    "swap = fi['Superior']\n",
    "del fi['Superior']\n",
    "fi['Superior'] = swap"
   ]
  },
  {
   "cell_type": "code",
   "execution_count": 146,
   "id": "8028fde6",
   "metadata": {},
   "outputs": [
    {
     "data": {
      "text/plain": [
       "{'Fundamental': 4, 'Médio': 20, 'Técnico': 7, 'Superior': 9}"
      ]
     },
     "execution_count": 146,
     "metadata": {},
     "output_type": "execute_result"
    }
   ],
   "source": [
    "fi"
   ]
  },
  {
   "cell_type": "code",
   "execution_count": 147,
   "id": "c01a0b61",
   "metadata": {},
   "outputs": [],
   "source": [
    "index = list(fi.keys())"
   ]
  },
  {
   "cell_type": "code",
   "execution_count": 148,
   "id": "478966e4",
   "metadata": {},
   "outputs": [],
   "source": [
    "data = list(fi.values())"
   ]
  },
  {
   "cell_type": "code",
   "execution_count": 149,
   "id": "fb2a3ae5",
   "metadata": {},
   "outputs": [],
   "source": [
    "fi_relative = []\n",
    "for value in data:\n",
    "    element = np.around((value / sum(data)), 2)\n",
    "    element = element * 100\n",
    "    fi_relative.append(element)"
   ]
  },
  {
   "cell_type": "markdown",
   "id": "47a5ced8",
   "metadata": {},
   "source": [
    "Diferente da variável do tipo qualitativa nominal, as frequências acumuladas trazem informações relevantes para a análise."
   ]
  },
  {
   "cell_type": "markdown",
   "id": "6a865512",
   "metadata": {},
   "source": [
    "Vamos criar uma lista com a frequência absoluta acumulada."
   ]
  },
  {
   "cell_type": "code",
   "execution_count": 150,
   "id": "2b22b3fc",
   "metadata": {},
   "outputs": [],
   "source": [
    "fi_accumulated = [data[0]]\n",
    "for value in range(1, len(data)):\n",
    "    element = fi_accumulated[value - 1] + data[value]\n",
    "    fi_accumulated.append(element)"
   ]
  },
  {
   "cell_type": "code",
   "execution_count": 151,
   "id": "2938699c",
   "metadata": {},
   "outputs": [],
   "source": [
    "frequency_distribution = pd.DataFrame(index=index, data=data, columns=['Fi'])\n",
    "frequency_distribution['Fi (%)'] = fi_relative\n",
    "frequency_distribution['Fi Acumulado'] = fi_accumulated"
   ]
  },
  {
   "cell_type": "code",
   "execution_count": 152,
   "id": "880572fa",
   "metadata": {},
   "outputs": [
    {
     "data": {
      "text/html": [
       "<div>\n",
       "<style scoped>\n",
       "    .dataframe tbody tr th:only-of-type {\n",
       "        vertical-align: middle;\n",
       "    }\n",
       "\n",
       "    .dataframe tbody tr th {\n",
       "        vertical-align: top;\n",
       "    }\n",
       "\n",
       "    .dataframe thead th {\n",
       "        text-align: right;\n",
       "    }\n",
       "</style>\n",
       "<table border=\"1\" class=\"dataframe\">\n",
       "  <thead>\n",
       "    <tr style=\"text-align: right;\">\n",
       "      <th></th>\n",
       "      <th>Fi</th>\n",
       "      <th>Fi (%)</th>\n",
       "      <th>Fi Acumulado</th>\n",
       "    </tr>\n",
       "  </thead>\n",
       "  <tbody>\n",
       "    <tr>\n",
       "      <th>Fundamental</th>\n",
       "      <td>4</td>\n",
       "      <td>10.0</td>\n",
       "      <td>4</td>\n",
       "    </tr>\n",
       "    <tr>\n",
       "      <th>Médio</th>\n",
       "      <td>20</td>\n",
       "      <td>50.0</td>\n",
       "      <td>24</td>\n",
       "    </tr>\n",
       "    <tr>\n",
       "      <th>Técnico</th>\n",
       "      <td>7</td>\n",
       "      <td>18.0</td>\n",
       "      <td>31</td>\n",
       "    </tr>\n",
       "    <tr>\n",
       "      <th>Superior</th>\n",
       "      <td>9</td>\n",
       "      <td>22.0</td>\n",
       "      <td>40</td>\n",
       "    </tr>\n",
       "  </tbody>\n",
       "</table>\n",
       "</div>"
      ],
      "text/plain": [
       "             Fi  Fi (%)  Fi Acumulado\n",
       "Fundamental   4    10.0             4\n",
       "Médio        20    50.0            24\n",
       "Técnico       7    18.0            31\n",
       "Superior      9    22.0            40"
      ]
     },
     "execution_count": 152,
     "metadata": {},
     "output_type": "execute_result"
    }
   ],
   "source": [
    "frequency_distribution"
   ]
  },
  {
   "cell_type": "markdown",
   "id": "eb8a2e75",
   "metadata": {},
   "source": [
    "Criar um gráfico em barras com as informações da tabela."
   ]
  },
  {
   "cell_type": "code",
   "execution_count": 153,
   "id": "b38b9efe",
   "metadata": {},
   "outputs": [
    {
     "data": {
      "text/plain": [
       "<matplotlib.legend.Legend at 0x7fb229056e50>"
      ]
     },
     "execution_count": 153,
     "metadata": {},
     "output_type": "execute_result"
    },
    {
     "data": {
      "image/png": "[encoded data removed]",
      "text/plain": [
       "<Figure size 1440x720 with 2 Axes>"
      ]
     },
     "metadata": {},
     "output_type": "display_data"
    }
   ],
   "source": [
    "figure = plt.figure(figsize=(20,10))\n",
    "axes = figure.subplots(nrows=1, ncols=2)\n",
    "\n",
    "axes[0].bar(frequency_distribution.index, frequency_distribution['Fi'])\n",
    "axes[0].set_title('(1) Nível de escolaridade de 40 empregado da Empresa A.', fontsize=20)\n",
    "axes[0].set_ylabel('Nº de ocorrências', fontsize=18)\n",
    "#axes[0].get_yticks(fontsize=18)\n",
    "axes[0].set_xlabel('Nível Educacional', fontsize=18)\n",
    "#axes[0].get_xticks(fontsize=18)\n",
    "\n",
    "axes[1].pie(frequency_distribution['Fi (%)'], labels=frequency_distribution['Fi (%)'], \n",
    "            explode=(0.01, 0.01, 0.01, 0.01))\n",
    "axes[1].set_title('(2) Distribuição em % do nível de escolaridade\\n de 40 empregado da Empresa A.', \n",
    "                  fontsize=20)\n",
    "axes[1].legend(bbox_to_anchor=(1.2, 0.5, 0.5, 0.1), title='Legenda', \n",
    "               labels=frequency_distribution.index, fontsize=18, title_fontsize=18)"
   ]
  },
  {
   "cell_type": "markdown",
   "id": "3322b1b1",
   "metadata": {},
   "source": [
    "Podemos visualizar a confirmação do valor da moda onde o nível médio é o que possui mais ocorrência no conjunto de dados, tanto no gráfico 1 onde mostra que nível médio obteve 20 ocorrências, quanto no gráfico 2 onde o nível médio possui 50% das ocorrências.\n",
    "\n",
    "Além disso, podemos visualizar que os funcionários que possui nível técnico ou superior representam 40% das ocorrências."
   ]
  },
  {
   "cell_type": "code",
   "execution_count": 158,
   "id": "a88f7e47",
   "metadata": {},
   "outputs": [
    {
     "name": "stdout",
     "output_type": "stream",
     "text": [
      "40.0% dos funcionários\n"
     ]
    }
   ],
   "source": [
    "print('{}% dos funcionários'.format(sum(frequency_distribution['Fi (%)'][2:])))"
   ]
  },
  {
   "cell_type": "markdown",
   "id": "071bf71c",
   "metadata": {},
   "source": [
    "Outra informação que poderia ser análisado seria a porcentagem de funcionários que possuem ao menos o ensino médio."
   ]
  },
  {
   "cell_type": "code",
   "execution_count": 159,
   "id": "a1758d3c",
   "metadata": {},
   "outputs": [
    {
     "name": "stdout",
     "output_type": "stream",
     "text": [
      "90.0% dos funcionários\n"
     ]
    }
   ],
   "source": [
    "print('{}% dos funcionários'.format(sum(frequency_distribution['Fi (%)'][1:])))"
   ]
  },
  {
   "cell_type": "markdown",
   "id": "92a4eebc",
   "metadata": {},
   "source": [
    "Vemos que 90% dos funcionarios possui ao menos o ensino médio.\n",
    "\n",
    "Podemos saber quantos funcionários não possuem o ensino superior."
   ]
  },
  {
   "cell_type": "code",
   "execution_count": 162,
   "id": "a75f3369",
   "metadata": {},
   "outputs": [
    {
     "name": "stdout",
     "output_type": "stream",
     "text": [
      "24 funcionários que representam 60.0% do total\n"
     ]
    }
   ],
   "source": [
    "print('{} funcionários que representam {}% do total'.format(sum(frequency_distribution['Fi'][:2]), \n",
    "                                                            sum(frequency_distribution['Fi (%)'][:2])))"
   ]
  },
  {
   "cell_type": "markdown",
   "id": "166f2c40",
   "metadata": {},
   "source": [
    "Além disso, temos que alguns funcionários possuem apenas o nível fundamental, que conforme a tabela são:"
   ]
  },
  {
   "cell_type": "code",
   "execution_count": 163,
   "id": "e57f079a",
   "metadata": {},
   "outputs": [
    {
     "name": "stdout",
     "output_type": "stream",
     "text": [
      "10.0% dos funcionários.\n"
     ]
    }
   ],
   "source": [
    "print('{}% dos funcionários.'.format(frequency_distribution['Fi (%)']['Fundamental']))"
   ]
  },
  {
   "cell_type": "markdown",
   "id": "2b472409",
   "metadata": {},
   "source": [
    "## Referências:\n",
    "\n",
    "BUSSAB, Wilton de O.; MORETTIN, Pedro A. Estatística Básica. 5ª edição. São Paulo: Editora Saraiva, 2004."
   ]
  }
 ],
 "metadata": {
  "kernelspec": {
   "display_name": "Python 3 (ipykernel)",
   "language": "python",
   "name": "python3"
  },
  "language_info": {
   "codemirror_mode": {
    "name": "ipython",
    "version": 3
   },
   "file_extension": ".py",
   "mimetype": "text/x-python",
   "name": "python",
   "nbconvert_exporter": "python",
   "pygments_lexer": "ipython3",
   "version": "3.8.10"
  }
 },
 "nbformat": 4,
 "nbformat_minor": 5
}
