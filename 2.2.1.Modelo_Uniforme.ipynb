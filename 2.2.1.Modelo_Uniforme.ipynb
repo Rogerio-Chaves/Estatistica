{
 "cells": [
  {
   "cell_type": "markdown",
   "id": "ff4176a6",
   "metadata": {},
   "source": [
    "# Modelo Uniforme\n",
    "\n",
    "Creation on October 19 2021.\n",
    "\n",
    "@author: Rogerio Chaves\n",
    "\n",
    "E-mail: chaves.rogerio@outlook.com\n",
    "\n",
    "github: https://github.com/Rogerio-Chaves/Estatistica/tree/main/Probabilidade/Variaveis_Aleatorias_Continuas"
   ]
  },
  {
   "cell_type": "markdown",
   "id": "2483a6bd",
   "metadata": {},
   "source": [
    "O modelo uniforme é o modelo mais simples as variávei alatória  contínuas, é \"a probabilidade de se gerar qualquer ponto em um intervalo contido no espaço amostral é proporcional ao tamanho do intervalo\", o intervalo é definido por $\\alpha$ (limite inferior do intervalo) e $\\beta$ (limite superior do intervalo)."
   ]
  },
  {
   "cell_type": "markdown",
   "id": "805694e3",
   "metadata": {},
   "source": [
    "Importar bibliotecas."
   ]
  },
  {
   "cell_type": "code",
   "execution_count": 4,
   "id": "2199df5a",
   "metadata": {},
   "outputs": [],
   "source": [
    "import numpy as np\n",
    "import matplotlib.pyplot as plt\n",
    "from matplotlib import style"
   ]
  },
  {
   "cell_type": "markdown",
   "id": "ceea68c8",
   "metadata": {},
   "source": [
    "Definição do estilo que será usado nos _plots_ dos gáficos."
   ]
  },
  {
   "cell_type": "code",
   "execution_count": 5,
   "id": "e0d714f1",
   "metadata": {},
   "outputs": [],
   "source": [
    "style.use('seaborn')"
   ]
  },
  {
   "cell_type": "markdown",
   "id": "1882d7cf",
   "metadata": {},
   "source": [
    "Definiçõ de função do modelo uniforme.\n",
    "\n",
    "$f(x; \\alpha, \\beta) = \\frac{1}{\\beta - \\alpha}\n",
    ", se\\ \\alpha \\leq x \\leq \\beta$;\n",
    "                    \n",
    "$f(x; \\alpha, \\beta) = 0, caso\\ contrário$."
   ]
  },
  {
   "cell_type": "code",
   "execution_count": 6,
   "id": "c1c055aa",
   "metadata": {},
   "outputs": [],
   "source": [
    "def uniform_function(x, alpha, beta):\n",
    "    if x >= alpha and x <= beta:\n",
    "        return 1 / (beta - alpha)\n",
    "    else:\n",
    "        return 0"
   ]
  },
  {
   "cell_type": "markdown",
   "id": "857c4082",
   "metadata": {},
   "source": [
    "Definição da função acumulada do modelo uniforme. \n",
    "\n",
    "Dado por,\n",
    "\n",
    "$\n",
    "f(x, \\alpha, \\beta) = 0,\\ se\\ x < \\alpha;\\\\\n",
    "f(x, \\alpha, \\beta) = \\frac{x - \\alpha}{\\beta - \\alpha},\\ se\\ \\alpha \\leq x < \\beta;\\\\\n",
    "f(x, \\alpha, \\beta) = 1,\\ se\\ x \\geq \\alpha.\n",
    "$"
   ]
  },
  {
   "cell_type": "code",
   "execution_count": 7,
   "id": "5669f2b7",
   "metadata": {},
   "outputs": [],
   "source": [
    "def uniform_cumulative(x, alpha, beta):\n",
    "    if x < alpha:\n",
    "        return 0\n",
    "    elif x >= beta:\n",
    "        return 1\n",
    "    else:\n",
    "        numerator = x - alpha\n",
    "        denominator = beta - alpha\n",
    "        return numerator / denominator"
   ]
  },
  {
   "cell_type": "markdown",
   "id": "49a0bc28",
   "metadata": {},
   "source": [
    "Exemplo:\n",
    "\n",
    "Dado um intervalo entre -10 e 10 com distribuição uniforme temos,\n",
    "\n",
    "$\n",
    "\\alpha = -10\\\\\n",
    "\\beta = 10\n",
    "$"
   ]
  },
  {
   "cell_type": "code",
   "execution_count": 8,
   "id": "e05a3f7a",
   "metadata": {},
   "outputs": [],
   "source": [
    "alpha = -10\n",
    "beta = 10"
   ]
  },
  {
   "cell_type": "markdown",
   "id": "e2983fda",
   "metadata": {},
   "source": [
    "Definição do eixo x através do intervalo entre $\\alpha$ e $\\beta$. Além disso, para cada valor do eixo x aplica-se a função uniforme para definir o eixo y."
   ]
  },
  {
   "cell_type": "code",
   "execution_count": 9,
   "id": "86b71601",
   "metadata": {},
   "outputs": [],
   "source": [
    "x_values = list(np.arange(alpha, beta + 0.01, 0.01))\n",
    "x_values = list(map(lambda value: np.around(value, 2), x_values))\n",
    "\n",
    "y_values =list(map(lambda value: uniform_function(value, alpha, beta), x_values))"
   ]
  },
  {
   "cell_type": "markdown",
   "id": "6e65bc69",
   "metadata": {},
   "source": [
    "Obter o index de $\\alpha$ e $\\beta$ na lista que representa o eixo x."
   ]
  },
  {
   "cell_type": "code",
   "execution_count": 10,
   "id": "707a5a5f",
   "metadata": {},
   "outputs": [],
   "source": [
    "index_alpha = x_values.index(float(alpha))\n",
    "index_beta = x_values.index(float(beta))"
   ]
  },
  {
   "cell_type": "markdown",
   "id": "eb5f9641",
   "metadata": {},
   "source": [
    "_Plot_ do exemplo que representa o gáfico gerado por um modelo uniforme."
   ]
  },
  {
   "cell_type": "code",
   "execution_count": 11,
   "id": "3881d5ea",
   "metadata": {},
   "outputs": [
    {
     "data": {
      "text/plain": [
       "<matplotlib.legend.Legend at 0x7f12e8e2dca0>"
      ]
     },
     "execution_count": 11,
     "metadata": {},
     "output_type": "execute_result"
    },
    {
     "data": {
      "image/png": "[encoded data removed]",
      "text/plain": [
       "<Figure size 576x396 with 1 Axes>"
      ]
     },
     "metadata": {},
     "output_type": "display_data"
    }
   ],
   "source": [
    "plt.plot(x_values, y_values)\n",
    "plt.title('Uniform Model')\n",
    "plt.xlabel('x values')\n",
    "plt.ylabel('uniform function')\n",
    "plt.ylim([0, y_values[x_values.index(float(alpha))] * 2])\n",
    "plt.vlines(alpha, 0, y_values[index_alpha], ls='dashed', color='black')\n",
    "plt.vlines(beta, 0, y_values[index_beta], ls='dashed', color='black')\n",
    "plt.legend(['Uniform function'])"
   ]
  },
  {
   "cell_type": "code",
   "execution_count": 12,
   "id": "7a805b81",
   "metadata": {},
   "outputs": [
    {
     "data": {
      "text/plain": [
       "2001"
      ]
     },
     "execution_count": 12,
     "metadata": {},
     "output_type": "execute_result"
    }
   ],
   "source": [
    "len(x_values)"
   ]
  },
  {
   "cell_type": "markdown",
   "id": "06f8d6ec",
   "metadata": {},
   "source": [
    "Como dito no inicio do _notebook_ a probabilidade de se gerar qualquer ponto no intervalo amostral entre $\\alpha$ e $\\beta$ 'proporcional ao tamanho do intervalo.\n",
    "\n",
    "$\n",
    "P(x) = \\frac{x}{n}\n",
    "$\n",
    "\n",
    "x: ponto dentro do intervalo;\n",
    "\n",
    "n: tamanho do intervalo.\n",
    "\n",
    "Dado que o intervalo do exemplo acima, a probbilidade de se obter quaisquer ponto do intervalo é de $\\frac{1}{2001} \\simeq 0.05$%"
   ]
  },
  {
   "cell_type": "markdown",
   "id": "47756cc0",
   "metadata": {},
   "source": [
    "Sobre a funç"
   ]
  },
  {
   "cell_type": "code",
   "execution_count": 25,
   "id": "7f5aff32",
   "metadata": {},
   "outputs": [],
   "source": [
    "x = 5"
   ]
  },
  {
   "cell_type": "code",
   "execution_count": 26,
   "id": "a0dcbb35",
   "metadata": {},
   "outputs": [],
   "source": [
    "probability = uniform_cumulative(x, alpha, beta) * 100"
   ]
  },
  {
   "cell_type": "code",
   "execution_count": 27,
   "id": "1b9e5278",
   "metadata": {},
   "outputs": [],
   "source": [
    "inferior_limit = 0\n",
    "upper_limit = 'Undefined'\n",
    "if x > beta:\n",
    "    upper_limit = len(x_values) - 1\n",
    "else:\n",
    "    upper_limit = x_values.index(x)\n",
    "    \n",
    "x_fill = x_values[inferior_limit: upper_limit]\n",
    "y_fill = y_values[inferior_limit: upper_limit]"
   ]
  },
  {
   "cell_type": "code",
   "execution_count": 28,
   "id": "a1f323e5",
   "metadata": {},
   "outputs": [
    {
     "data": {
      "text/plain": [
       "<matplotlib.legend.Legend at 0x7fade0212430>"
      ]
     },
     "execution_count": 28,
     "metadata": {},
     "output_type": "execute_result"
    },
    {
     "data": {
      "image/png": "[encoded data removed]",
      "text/plain": [
       "<Figure size 576x396 with 1 Axes>"
      ]
     },
     "metadata": {},
     "output_type": "display_data"
    }
   ],
   "source": [
    "plt.plot(x_values, y_values)\n",
    "plt.title('Uniform Model')\n",
    "plt.xlabel('x values')\n",
    "plt.ylabel('uniform function')\n",
    "plt.text(alpha, y_values[index_alpha] * 1.8, f'Probability is {probability}%')\n",
    "plt.ylim([0, y_values[x_values.index(float(alpha))] * 2])\n",
    "plt.vlines(alpha, 0, y_values[index_alpha], ls='dashed', color='black')\n",
    "plt.vlines(beta, 0, y_values[index_beta], ls='dashed', color='black')\n",
    "plt.fill_between(x_fill, y_fill)\n",
    "plt.legend(['Uniform function'])"
   ]
  },
  {
   "cell_type": "markdown",
   "id": "ef2ce089",
   "metadata": {},
   "source": [
    "## Referencias\n",
    "\n",
    "Disponivel em: <https://pt.wikipedia.org/wiki/Distribui%C3%A7%C3%A3o_uniforme>. Acesso em 19 de outubro de 2021."
   ]
  }
 ],
 "metadata": {
  "kernelspec": {
   "display_name": "Python 3 (ipykernel)",
   "language": "python",
   "name": "python3"
  },
  "language_info": {
   "codemirror_mode": {
    "name": "ipython",
    "version": 3
   },
   "file_extension": ".py",
   "mimetype": "text/x-python",
   "name": "python",
   "nbconvert_exporter": "python",
   "pygments_lexer": "ipython3",
   "version": "3.8.10"
  }
 },
 "nbformat": 4,
 "nbformat_minor": 5
}
