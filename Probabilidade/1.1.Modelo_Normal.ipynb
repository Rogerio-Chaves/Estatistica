{
 "cells": [
  {
   "cell_type": "markdown",
   "id": "62577483",
   "metadata": {},
   "source": [
    "# O Modelo Normal\n",
    "\n",
    "Creation on August 23 2021.\n",
    "\n",
    "Last modification on October 13 2021.\n",
    "\n",
    "@author: Rogerio Chaves\n",
    "\n",
    "E-mail: chaves.rogerio@outlook.com\n",
    "\n",
    "github: "
   ]
  },
  {
   "cell_type": "markdown",
   "id": "3d287a8f",
   "metadata": {},
   "source": [
    "Importar bibliotecas"
   ]
  },
  {
   "cell_type": "code",
   "execution_count": 1,
   "id": "ddc42170",
   "metadata": {},
   "outputs": [],
   "source": [
    "import matplotlib.pyplot as plt\n",
    "from matplotlib import style\n",
    "import numpy as np\n",
    "from scipy.integrate import quad"
   ]
  },
  {
   "cell_type": "markdown",
   "id": "1c9f8586",
   "metadata": {},
   "source": [
    "Definir o estilo dos _plots_."
   ]
  },
  {
   "cell_type": "code",
   "execution_count": 2,
   "id": "95b20e40",
   "metadata": {},
   "outputs": [],
   "source": [
    "style.use('seaborn')"
   ]
  },
  {
   "cell_type": "markdown",
   "id": "f9346f20",
   "metadata": {},
   "source": [
    "Criar a função normal."
   ]
  },
  {
   "cell_type": "code",
   "execution_count": 3,
   "id": "9a1ab7b0",
   "metadata": {},
   "outputs": [],
   "source": [
    "def normal_function(x, mu, variance):\n",
    "    numerator = np.exp((((x - mu) ** 2)*(-1)) / (2*variance))\n",
    "    denominator = np.sqrt(2*np.pi*variance)\n",
    "    return numerator / denominator"
   ]
  },
  {
   "cell_type": "markdown",
   "id": "b4a22eb4",
   "metadata": {},
   "source": [
    "Criar a função normal acumulada."
   ]
  },
  {
   "cell_type": "code",
   "execution_count": 4,
   "id": "3967c5e9",
   "metadata": {},
   "outputs": [],
   "source": [
    "def cumulative_distribution_function(inferior_limit, upper_limit, mu, variance):\n",
    "    value =  quad(normal_function, \n",
    "                inferior_limit, \n",
    "                upper_limit, \n",
    "                (mu,variance))\n",
    "    return value[0]"
   ]
  },
  {
   "cell_type": "markdown",
   "id": "6ad4b8c5",
   "metadata": {},
   "source": [
    "Definir a média e a variância. \n",
    "\n",
    "Obs: Nos exemplos serão utilizados o modelo normal padrão com média = 0 e variância = 1."
   ]
  },
  {
   "cell_type": "code",
   "execution_count": 5,
   "id": "ad47989f",
   "metadata": {},
   "outputs": [],
   "source": [
    "# mean and variance\n",
    "mu = 0\n",
    "variance = 1"
   ]
  },
  {
   "cell_type": "markdown",
   "id": "be5cbd67",
   "metadata": {},
   "source": [
    "Definir os eixos x e y.\n",
    "\n",
    "No eixo x: utilizamos a função _arange_ do numpy para criar uma lista de valores uniformemente separada.\n",
    "\n",
    "No eixo y: aplicamos a função _normal_function_ para cada valor do eixo x e assim obtemos a lista de valores do eixo y."
   ]
  },
  {
   "cell_type": "code",
   "execution_count": 6,
   "id": "5f645d10",
   "metadata": {},
   "outputs": [],
   "source": [
    "# x and y coordinate values\n",
    "x_values = list(np.around(np.arange(mu - 5, mu + 5.01, 0.01), 2))\n",
    "y_values = list(map(lambda value: normal_function(value, mu, variance), x_values))"
   ]
  },
  {
   "cell_type": "markdown",
   "id": "80524b3a",
   "metadata": {},
   "source": [
    "Valor da coordenada (x,y) para o _plot_ de uma linha vertical."
   ]
  },
  {
   "cell_type": "code",
   "execution_count": 7,
   "id": "7996d8fa",
   "metadata": {},
   "outputs": [],
   "source": [
    "# (x,y) coordinate value for vertical line plot\n",
    "x_value_mu = x_values[int(len(x_values) / 2)]\n",
    "y_value_mu = normal_function(x_value_mu, mu, variance)"
   ]
  },
  {
   "cell_type": "markdown",
   "id": "66799391",
   "metadata": {},
   "source": [
    "### Unicaudal\n",
    "\n",
    "\n",
    "(1) Probabilidade de Z menor ou igual a 1;\n",
    "\n",
    "\n",
    "(2) Probabilidade de Z maior ou igual a -2.5."
   ]
  },
  {
   "cell_type": "markdown",
   "id": "d0241b1d",
   "metadata": {},
   "source": [
    "Definir o limite inferior e o limite superior de Z."
   ]
  },
  {
   "cell_type": "code",
   "execution_count": 26,
   "id": "75a9b73f",
   "metadata": {},
   "outputs": [],
   "source": [
    "# Z inferior and upper values for example 01.\n",
    "inferior_limit_01 = np.NINF\n",
    "upper_limit_01 = 1\n",
    "\n",
    "# Z inferior and upper values for example 02.\n",
    "inferior_limit_02 = -2.5\n",
    "upper_limit_02 = np.inf"
   ]
  },
  {
   "cell_type": "markdown",
   "id": "da5ca6d0",
   "metadata": {},
   "source": [
    "Probabilidade normal da área do limite inferior até o limite superior"
   ]
  },
  {
   "cell_type": "code",
   "execution_count": 40,
   "id": "29f77736",
   "metadata": {},
   "outputs": [],
   "source": [
    "# Normal probability for example 01.\n",
    "normal_probability_01 = np.around(\n",
    "    cumulative_distribution_function(inferior_limit_01, \n",
    "                                         upper_limit_01, \n",
    "                                         mu, variance), 4)\n",
    "normal_probability_01 = np.around(normal_probability_01, 2)\n",
    "\n",
    "# Normal probability for example 02.\n",
    "normal_probability_02 = np.around(\n",
    "    cumulative_distribution_function(inferior_limit_02, \n",
    "                                         upper_limit_02, \n",
    "                                         mu, variance), 4)\n",
    "normal_probability_02 = np.around(normal_probability_02, 2)"
   ]
  },
  {
   "cell_type": "markdown",
   "id": "d6432d17",
   "metadata": {},
   "source": [
    "Definir a area de preenchimento."
   ]
  },
  {
   "cell_type": "code",
   "execution_count": 41,
   "id": "4b6ab151",
   "metadata": {},
   "outputs": [],
   "source": [
    "'''Creation of the lists of x and y coordinates for the probability area \n",
    "for example 01.'''\n",
    "x_fill_01 = x_values[0:int(x_values.index(upper_limit_01))]\n",
    "y_fill_01 = y_values[0:int(x_values.index(upper_limit_01))]\n",
    "'''Creation of the lists of x and y coordinates for the probability area \n",
    "for example 02.'''\n",
    "x_fill_02 = x_values[int(x_values.index(inferior_limit_02)): len(x_values) - 1]\n",
    "y_fill_02 = y_values[int(x_values.index(inferior_limit_02)): len(x_values) - 1]"
   ]
  },
  {
   "cell_type": "code",
   "execution_count": 42,
   "id": "d59b1a93",
   "metadata": {},
   "outputs": [
    {
     "data": {
      "text/plain": [
       "<matplotlib.legend.Legend at 0x7fdc9adb67c0>"
      ]
     },
     "execution_count": 42,
     "metadata": {},
     "output_type": "execute_result"
    },
    {
     "data": {
      "image/png": "[encoded data removed]",
      "text/plain": [
       "<Figure size 1080x504 with 2 Axes>"
      ]
     },
     "metadata": {},
     "output_type": "display_data"
    }
   ],
   "source": [
    "figure = plt.figure(figsize=(15,7))\n",
    "figure.suptitle('Normal models examples.')\n",
    "plots = figure.subplots(nrows=1, ncols=2)\n",
    "\n",
    "plots[0].plot(x_values, y_values, label='Normal function')\n",
    "plots[0].vlines(x_value_mu, 0, y_value_mu, ls='dashed', color='black')\n",
    "plots[0].set_title('The Normal Model')\n",
    "plots[0].set_xlabel('x values')\n",
    "plots[0].set_ylabel('value in normal function')\n",
    "plots[0].text(-5, 0.37, 'mu = {}'.format(mu))\n",
    "plots[0].text(-5, 0.35, 'sigma = {}'.format(np.sqrt(variance)))\n",
    "plots[0].text(-5, 0.20, 'The Probability Area\\n is {}'.format(normal_probability_01))\n",
    "plots[0].fill_between(x_fill_01, y_fill_01)\n",
    "plots[0].legend(title='Legend')\n",
    "\n",
    "plots[1].plot(x_values, y_values, label='Normal function')\n",
    "plots[1].vlines(x_value_mu, 0, y_value_mu, ls='dashed', color='black')\n",
    "plots[1].set_title('The Normal Model')\n",
    "plots[1].set_xlabel('x values')\n",
    "plots[1].set_ylabel('value in normal function')\n",
    "plots[1].text(-5, 0.37, 'mu = {}'.format(mu))\n",
    "plots[1].text(-5, 0.35, 'sigma = {}'.format(np.sqrt(variance)))\n",
    "plots[1].text(-5, 0.20, 'The Probability Area\\n is {}'.format(normal_probability_02))\n",
    "plots[1].fill_between(x_fill_02, y_fill_02)\n",
    "plots[1].legend(title='Legend')"
   ]
  },
  {
   "cell_type": "markdown",
   "id": "343eb828",
   "metadata": {},
   "source": [
    "### Bicaudal"
   ]
  },
  {
   "cell_type": "code",
   "execution_count": null,
   "id": "b1528c24",
   "metadata": {},
   "outputs": [],
   "source": []
  },
  {
   "cell_type": "code",
   "execution_count": null,
   "id": "1d732c57",
   "metadata": {},
   "outputs": [],
   "source": []
  }
 ],
 "metadata": {
  "kernelspec": {
   "display_name": "Python 3 (ipykernel)",
   "language": "python",
   "name": "python3"
  },
  "language_info": {
   "codemirror_mode": {
    "name": "ipython",
    "version": 3
   },
   "file_extension": ".py",
   "mimetype": "text/x-python",
   "name": "python",
   "nbconvert_exporter": "python",
   "pygments_lexer": "ipython3",
   "version": "3.8.10"
  }
 },
 "nbformat": 4,
 "nbformat_minor": 5
}
