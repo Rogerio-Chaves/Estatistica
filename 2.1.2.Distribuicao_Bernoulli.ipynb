{
 "cells": [
  {
   "attachments": {},
   "cell_type": "markdown",
   "id": "15ce31a0",
   "metadata": {},
   "source": [
    "# Distribuição de Bernoulli\n",
    "\n",
    "Creation on October 17 2021.\n",
    "\n",
    "@author: Rogerio Chaves\n",
    "\n",
    "E-mail: chaves.rogerio@outlook.com"
   ]
  },
  {
   "attachments": {},
   "cell_type": "markdown",
   "id": "6fc7a4ab",
   "metadata": {},
   "source": [
    "A distribuição de bernoulli é utilizada em experimentos em que os resultados apresentam ou não uma determinada característica. Nessas situações, o interesse está na ocorrência de _sucesso_ ou _fracasso_. \n",
    "\n",
    "Para cada experimento, a variável aleatória assume pens dois valores: 1 - Sucesso; e 0 - Fracasso. Sendo _p_ a probabilidade de sucesso, onde $P(sucesso) = p,\\ 0 < p < 1$\n",
    "\n",
    "__Definição:__ \"a variável aleatória X, que assume apenas os valores 0 e 1, com função de probabilidade (x, p(x)) tal que: \n",
    "\n",
    "$p(0) = P(X = 0) = 1 - p$\n",
    "    \n",
    "$p(1) = P(X = 1) = p$\n",
    "\n",
    "é chamada de _variável aleatória de Bernoulli_\".(BUSSAB, MORETTIN, 2004)\n"
   ]
  },
  {
   "cell_type": "code",
   "execution_count": 11,
   "id": "fa19b959",
   "metadata": {},
   "outputs": [],
   "source": [
    "import numpy as np\n",
    "import matplotlib.pyplot as plt\n",
    "from matplotlib import style\n",
    "\n",
    "style.use('seaborn-v0_8')"
   ]
  },
  {
   "attachments": {},
   "cell_type": "markdown",
   "id": "7224bdcf",
   "metadata": {},
   "source": [
    "$\n",
    "F(x) = 0,\\ se\\ < 0;\\\\\n",
    "F(x) = 1 - p,\\ se\\ 0 \\leq x < 1;\\\\\n",
    "F(x) = 1,\\ se\\ x \\geq 1.\n",
    "$"
   ]
  },
  {
   "cell_type": "code",
   "execution_count": 12,
   "id": "368854f2",
   "metadata": {},
   "outputs": [],
   "source": [
    "def bernoulli(x, p):\n",
    "    if x < 0:\n",
    "        return 0\n",
    "    elif x >= 0 and x < 1:\n",
    "        return 1 - p\n",
    "    else:\n",
    "        return 1"
   ]
  },
  {
   "attachments": {},
   "cell_type": "markdown",
   "id": "47f23f78",
   "metadata": {},
   "source": [
    "Exemplo:\n",
    "\n",
    "Dado um experimento em que a probabilidade de sucesso é de 45%. Assim, \n",
    "    \n",
    "$\n",
    "p = 0.45 \\\\\n",
    "q =  1 - p = 1 - 0.45 = 0.55\n",
    "$"
   ]
  },
  {
   "cell_type": "code",
   "execution_count": 13,
   "id": "b2356200",
   "metadata": {},
   "outputs": [
    {
     "name": "stdout",
     "output_type": "stream",
     "text": [
      "p = 0.45\n",
      "q = 0.55\n"
     ]
    }
   ],
   "source": [
    "p = 0.45\n",
    "q = 1 - p\n",
    "\n",
    "print(f'p = {p}\\n'\n",
    "      f'q = {q}')"
   ]
  },
  {
   "cell_type": "code",
   "execution_count": 14,
   "id": "896bfae7",
   "metadata": {},
   "outputs": [],
   "source": [
    "x_values = list(np.arange(-5,5,1))\n",
    "y_values = list(map(lambda value: bernoulli(value, p), x_values))"
   ]
  },
  {
   "attachments": {},
   "cell_type": "markdown",
   "id": "65405367",
   "metadata": {},
   "source": [
    "_Different_ é o valor em que na distribuição de Bernoulli o valor de $ 0 \\leq x < 1$."
   ]
  },
  {
   "cell_type": "code",
   "execution_count": 15,
   "id": "4c2d8d16",
   "metadata": {},
   "outputs": [],
   "source": [
    "different = list(filter(lambda value: value != 0 and value != 1, y_values))[0]"
   ]
  },
  {
   "attachments": {},
   "cell_type": "markdown",
   "id": "d7961109",
   "metadata": {},
   "source": [
    "_Plot_ do exemplo."
   ]
  },
  {
   "cell_type": "code",
   "execution_count": 16,
   "id": "a6282e8e",
   "metadata": {},
   "outputs": [
    {
     "data": {
      "image/png": "[encoded data removed]",
      "text/plain": [
       "<Figure size 800x550 with 1 Axes>"
      ]
     },
     "metadata": {},
     "output_type": "display_data"
    }
   ],
   "source": [
    "plt.scatter(x_values, y_values, color='darkblue')\n",
    "plt.vlines(1, 0, 1.0, ls='dashed', color='black')\n",
    "plt.vlines(0, 0, 1.5, color='black')\n",
    "plt.hlines(1, 0, 1, ls='dashed', color='black')\n",
    "plt.hlines(different, 0, 1, color='darkblue')\n",
    "plt.hlines(0, -5, 0, color='darkblue')\n",
    "plt.hlines(1, 1, 5, color='darkblue')\n",
    "plt.title('Bernoulli Distribution')\n",
    "plt.xlabel('x values')\n",
    "plt.ylabel('y values')\n",
    "plt.text(-0.5, 1, '1')\n",
    "plt.text(-0.8, different, '1 - p')\n",
    "plt.show()"
   ]
  },
  {
   "attachments": {},
   "cell_type": "markdown",
   "id": "54609612",
   "metadata": {},
   "source": [
    "## Referências:\n",
    "\n",
    "BUSSAB, Wilton de O.; MORETTIN, Pedro A. Estatística Básica. 5ª edição. São Paulo: Editora Saraiva, 2004."
   ]
  }
 ],
 "metadata": {
  "kernelspec": {
   "display_name": "Python 3 (ipykernel)",
   "language": "python",
   "name": "python3"
  },
  "language_info": {
   "codemirror_mode": {
    "name": "ipython",
    "version": 3
   },
   "file_extension": ".py",
   "mimetype": "text/x-python",
   "name": "python",
   "nbconvert_exporter": "python",
   "pygments_lexer": "ipython3",
   "version": "3.10.6"
  }
 },
 "nbformat": 4,
 "nbformat_minor": 5
}
