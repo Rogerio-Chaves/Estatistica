{
 "cells": [
  {
   "cell_type": "markdown",
   "id": "5f48b370",
   "metadata": {},
   "source": [
    "# 1.2. Medidas de Posição (ou Tendência Central)\n",
    "\n",
    "Created on August 29 2022\n",
    "\n",
    "Last modification on September 03 2022\n",
    "\n",
    "@author: Rogerio Chaves\n",
    "\n",
    "E-mail: chaves.rogerio@outlook.com"
   ]
  },
  {
   "cell_type": "markdown",
   "id": "b187d918",
   "metadata": {},
   "source": [
    "Medidas de Posição (Tendência Central) são medidas que buscam resumir os dados, através de um ou alguns valores que representam todos os dados. As medidas mais conhecidas são: média, moda e mediana. (BUSSAB e MORETTIN, 2004)"
   ]
  },
  {
   "cell_type": "markdown",
   "id": "ae9c22fe",
   "metadata": {},
   "source": [
    "## Dados não agrupados"
   ]
  },
  {
   "cell_type": "markdown",
   "id": "e64f6b8f",
   "metadata": {},
   "source": [
    "### Média Aritmética\n",
    "\n",
    "Média Aritmética: é a soma de todas as observações em relação a quantidade de observações. (BUSSAB e MORETTIN, 2004)\n",
    "    \n",
    "<center>$  \\overline {x}  = \\frac{ x_{1} + x_{2} + ... + x_{n} } { n } $, para <i>n</i> observações.</center>\n",
    "\n",
    "Por exemplo, dado as três notas, 9.5, 10 e 8, obtidas por um aluno de Informática, queremos saber a média final do aluno. Assim, como são três notas temos que o número de observações é igual a três e cada nota representa uma observação.\n",
    "    \n",
    "<center>$  \\overline {x}  = \\frac{ x_{1} + x_{2} + x_{3} }{ 3 } $</center>\n",
    "\n",
    "<center>$   \\overline {x}  = \n",
    "\\frac{ 9.5 + 10 + 8 }{ 3 } =\n",
    "\\frac{ 27.5 }{ 3 } \\approx 9.17  $</center>\n",
    "\n",
    "A linguagem Python fornece diversas bibliotecas que poderiam ser utilizadas, porém vamos implementar nossas proprias funções."
   ]
  },
  {
   "cell_type": "code",
   "execution_count": 1,
   "id": "433908fa",
   "metadata": {},
   "outputs": [],
   "source": [
    "def media_aritmetica(valores):\n",
    "    soma = 0\n",
    "    n = len(valores)\n",
    "    \n",
    "    for i in range(0,n):\n",
    "        soma += valores[i]\n",
    "        \n",
    "    media = soma / n\n",
    "    \n",
    "    return media"
   ]
  },
  {
   "cell_type": "code",
   "execution_count": 2,
   "id": "88dc025a",
   "metadata": {},
   "outputs": [
    {
     "name": "stdout",
     "output_type": "stream",
     "text": [
      "Média aritmética = 9.17\n"
     ]
    }
   ],
   "source": [
    "notas = [9.5,10, 8]\n",
    "media = media_aritmetica(notas)\n",
    "\n",
    "print(f'Média aritmética = {media:.2f}')"
   ]
  },
  {
   "cell_type": "markdown",
   "id": "631dc9a0",
   "metadata": {},
   "source": [
    "### Média Ponderada\n",
    "\n",
    "Média ponderada: de forma semelhante a média aritmética, porém cada observação possui um peso associado. Além disso, dividimos em relação a soma dos pesos e não mais em relação ao número de observações.\n",
    "    \n",
    "<center>$  \\bar {x}  = \\frac{ p_{1} \\cdot x_{1} + p_{2} \\cdot x_{2} + ... + p_{n} \\cdot x_{n} }{ p_{1} + p_{2} + ... + p_{n} } $</center>"
   ]
  },
  {
   "cell_type": "markdown",
   "id": "c73e9383",
   "metadata": {},
   "source": [
    "Para o exemplo de notas dado acima, digamos que cada nota possui uma peso como definiremos abaixo.\n",
    "\n",
    "1ª nota: peso 1.5\n",
    "\n",
    "2ª nota: peso 1.5\n",
    "\n",
    "3ª nota: 7\n",
    "\n",
    "<center>$  \\bar {x}  = \\frac{ 1.5 \\cdot 9.5 + 1.5 \\cdot 10 + 7 \\cdot 8}{ 1.5 + 1.5 + 7 } $</center>\n",
    "\n",
    "<center>$  \\bar {x}  = \\frac{ 14.25 + 15 + 56}{ 10 } $</center>\n",
    "\n",
    "<center>$  \\bar {x}  = \\frac{ 85,25}{ 10 } \\approx 8.53 $</center>\n",
    "\n"
   ]
  },
  {
   "cell_type": "code",
   "execution_count": 3,
   "id": "0aea5f8f",
   "metadata": {},
   "outputs": [],
   "source": [
    "def media_ponderada(valores, pesos):\n",
    "    soma = 0\n",
    "    n = len(valores)\n",
    "    soma_pesos = sum(pesos)\n",
    "    \n",
    "    for i in range(0,n):\n",
    "        soma += valores[i] * pesos[i]\n",
    "        \n",
    "    media = soma / soma_pesos\n",
    "    \n",
    "    return media"
   ]
  },
  {
   "cell_type": "code",
   "execution_count": 4,
   "id": "cc0c3c0e",
   "metadata": {},
   "outputs": [
    {
     "name": "stdout",
     "output_type": "stream",
     "text": [
      "Média ponderada = 8.53\n"
     ]
    }
   ],
   "source": [
    "notas = [9.5, 10, 8]\n",
    "pesos = [1.5, 1.5, 7]\n",
    "\n",
    "media = media_ponderada(notas, pesos)\n",
    "\n",
    "print(f'Média ponderada = {media:.2f}')"
   ]
  },
  {
   "cell_type": "markdown",
   "id": "a976a0d7",
   "metadata": {},
   "source": [
    "### Moda\n",
    "\n",
    "Moda: é o valor com o maior número de frequência do conjunto de valores observados. Em um conjunto de observações pode haver nenhuma ou mais de uma moda (BUSSAB e MORETTIN, 2004). Por exemplo, dados o conjunto de observações a seguir:\n",
    "<center>1, 2, 1, 3, 4, 5, 6, 7, 7, 8</center>\n",
    "    \n",
    "A moda são os valores 1 e 7. Portanto, trata-se de um conjunto bimodal."
   ]
  },
  {
   "cell_type": "code",
   "execution_count": null,
   "id": "16cac186",
   "metadata": {},
   "outputs": [],
   "source": []
  },
  {
   "cell_type": "markdown",
   "id": "908ce8a1",
   "metadata": {},
   "source": [
    "### Mediana\n",
    "\n",
    "Mediana: a partir da ordenação dos valores observados em ordem crescente, a mediana é o valor que ocupa a posição central dentro do conjunto, dividindo assim as observações em duas partes. Nessa medida podemos ter duas situações quando a quantidade de observações é par ou quando é ímpar. (BUSSAB e MORETTIN, 2004)\n",
    "\n",
    "-Quando o número de observações é par:\n",
    "\n",
    "<center>$ mediana = \\frac{{x_\\frac{{n}}{2}} + x_{\\frac{n}{2} + 1}}{ 2 } $</center>\n",
    "\n",
    "Por exemplo, dado o conjunto de dados com 10 observações a seguir\n",
    "\n",
    "\n",
    "<center> 10, 70, 20, 40, 50, 60, 70, 80, 10, 90 </center>\n",
    "\n",
    "1º Precisamos ordenar de forma crescente.\n",
    "\n",
    "<center> 10, 10, 20, 40, 50, 60, 70, 70, 80, 90 </center>\n",
    "    \n",
    "2º Obter as posições centrais do conjunto de dados $ \\frac{n}{2} $ e $  \\frac{n}{2} + 1 $ e os seus respectivos valores.\n",
    "\n",
    "<center> $ \\frac{n}{2} = \\frac{ 10 }{ 2 } = 5 $ </center>\n",
    "\n",
    "e\n",
    "\n",
    "<center> $  \\frac{n}{2} + 1 =  \\frac{10}{2} + 1 = 5 + 1 = 6 $ </center>\n",
    "\n",
    "Agora que sabemos quais são as posições centrais do conjunto, 5ª e 6ª respectivamente, podemos obter os valores centrais do conjunto de dados.\n",
    "\n",
    "<center> $ x_{5} = 50 $ e $ x_{6} = 60 $ </center>\n",
    "\n",
    "3ª Calcular a mediana.\n",
    "\n",
    "<center> $ mediana = \\frac{x_{5} + x_{6}  }{ 2 } =\n",
    "\\frac{ 50 + 60 }{ 2 } =\n",
    "\\frac{ 110 }{ 2 } = \n",
    "55 $ </center>\n",
    "\n",
    "-Quando o número de observações é ímpar:\n",
    "\n",
    "<center> $ mediana  = x_{\\frac{n + 1}{ 2 }} $ </center>\n",
    "\n",
    "Por exemplo, dado o conjunto de dados com 7 observações a seguir\n",
    "\n",
    "<center> 1, 2, 3, 1, 7, 5, 8 </center>\n",
    "\n",
    "1º Precisamos ordenar de forma crescente.\n",
    "\n",
    "<center> 1, 1, 2, 3, 5, 7, 8 </center>\n",
    "\n",
    "2º Obter a posição central do conjunto de dados, $ \\frac{n + 1}{ 2 } $, e o seu respectivo valor.\n",
    "\n",
    "<center> $  \\frac{n + 1}{2} =  \\frac{7 + 1}{2} = 8 + 1 = 4 $ </center>\n",
    "\n",
    "Agora que sabemos qual é a posição central do conjunto, 4ªobservação, podemos obter o valor central do conjunto de dados.\n",
    "\n",
    "<center> $ x_{ 4} = 3 $ </center>\n",
    "\n",
    "3ª Calcular a mediana.\n",
    "\n",
    "<center> $ mediana  = x_{\\frac{n + 1}{ 2 }} = \n",
    "{ x_{4} } = 3 $ </center>\n",
    "\n",
    "Assim, o valor da mediana para o conjunto de dados é igual a 3."
   ]
  },
  {
   "cell_type": "code",
   "execution_count": 5,
   "id": "1ea2ae0b",
   "metadata": {},
   "outputs": [],
   "source": [
    "def par(n):\n",
    "    if n % 2 == 0:\n",
    "        return True\n",
    "    else:\n",
    "        return False"
   ]
  },
  {
   "cell_type": "code",
   "execution_count": 6,
   "id": "6129d529",
   "metadata": {},
   "outputs": [],
   "source": [
    "def mediana(valores):\n",
    "    # ordenação do conjunto de dados.\n",
    "    valores = sorted(valores)\n",
    "    # Obter tamanho do conjunto de dados.\n",
    "    n = len(valores)\n",
    "       \n",
    "    if par(n):\n",
    "        # Obter o primeiro indice.\n",
    "        indice_01 = int(n / 2)\n",
    "        # Obter o segundo indice.\n",
    "        indice_02  = int((n / 2) + 1)\n",
    "        \n",
    "        # Obter o primeiro valor.\n",
    "        valor_01 = valores[indice_01 - 1]\n",
    "        # Obter o segundo valor.\n",
    "        valor_02 = valores[indice_02 - 1]\n",
    "        \n",
    "        # Obter mediana.\n",
    "        mediana = (valor_01 + valor_02) / 2\n",
    "    else:\n",
    "        # Obter o indice.\n",
    "        indice = int((n + 1) / 2)\n",
    "        \n",
    "        # Obter mediana.\n",
    "        mediana = valores[indice - 1]\n",
    "    \n",
    "    return mediana"
   ]
  },
  {
   "cell_type": "code",
   "execution_count": 7,
   "id": "6302e99c",
   "metadata": {},
   "outputs": [],
   "source": [
    "exemplo_01 = [10, 70, 20, 40, 50, 60, 70, 80, 10, 90]"
   ]
  },
  {
   "cell_type": "code",
   "execution_count": 8,
   "id": "d7152bf6",
   "metadata": {},
   "outputs": [
    {
     "name": "stdout",
     "output_type": "stream",
     "text": [
      "Mediana = 55.0\n"
     ]
    }
   ],
   "source": [
    "mediana_01 = mediana(exemplo_01)\n",
    "\n",
    "print(f'Mediana = {mediana_01}')"
   ]
  },
  {
   "cell_type": "code",
   "execution_count": 9,
   "id": "f15d8f6c",
   "metadata": {},
   "outputs": [],
   "source": [
    "exemplo_02 = [1, 2, 3, 1, 7, 5, 8]"
   ]
  },
  {
   "cell_type": "code",
   "execution_count": 10,
   "id": "97c5d29f",
   "metadata": {},
   "outputs": [
    {
     "name": "stdout",
     "output_type": "stream",
     "text": [
      "Mediana = 3\n"
     ]
    }
   ],
   "source": [
    "mediana_02 = mediana(exemplo_02)\n",
    "print(f'Mediana = {mediana_02}')"
   ]
  },
  {
   "cell_type": "markdown",
   "id": "547c100c",
   "metadata": {},
   "source": [
    "## Referências:\n",
    "\n",
    "BUSSAB, Wilton de O.; MORETTIN, Pedro A. Estatística Básica. 5ª edição. São Paulo: Editora Saraiva, 2004."
   ]
  },
  {
   "cell_type": "code",
   "execution_count": null,
   "id": "34832440",
   "metadata": {},
   "outputs": [],
   "source": []
  }
 ],
 "metadata": {
  "kernelspec": {
   "display_name": "Python 3 (ipykernel)",
   "language": "python",
   "name": "python3"
  },
  "language_info": {
   "codemirror_mode": {
    "name": "ipython",
    "version": 3
   },
   "file_extension": ".py",
   "mimetype": "text/x-python",
   "name": "python",
   "nbconvert_exporter": "python",
   "pygments_lexer": "ipython3",
   "version": "3.8.10"
  }
 },
 "nbformat": 4,
 "nbformat_minor": 5
}
