{
 "cells": [
  {
   "cell_type": "markdown",
   "id": "5f48b370",
   "metadata": {},
   "source": [
    "# 1.1. Classificação Variáveis\n",
    "\n",
    "Created on August 7 2021.\n",
    "\n",
    "Last modification on August 29 2022.\n",
    "\n",
    "@author: Rogerio Chaves\n",
    "\n",
    "E-mail: chaves.rogerio@outlook.com"
   ]
  },
  {
   "cell_type": "markdown",
   "id": "4549493a",
   "metadata": {},
   "source": [
    "## O que é uma variável?\n",
    "\n",
    "Uma variável é uma característica associada a um resultado que queremos inferir sobre uma população/amostra (BUSSAB; MORETTIN, 2004). Por exemplo, dado uma amostra de carros de uma determinada cidade queremos saber quantos são da marca Honda. Nessa situação, a marca do carro é a variável e as possíveis marcas é o resultado que está associado a ela (entre elas a Honda), pois cada carro está associado a uma marca.\n",
    "\n",
    "Cabe salientar que uma população ou amostra possui diversas varíaveis (ou características) atreladas a ela que podemos associar a um resultado. No exemplo de amostra de carros, além da variável marca, podeiramos ter como variável a cor, o consumo de combustível, a potência do motor e entre outros. "
   ]
  },
  {
   "cell_type": "markdown",
   "id": "2ddc7f39",
   "metadata": {},
   "source": [
    "## Tipos de variável\n",
    "\n",
    "Cada variável possui um resultado atrelado e a partir desse resultado podemos classificar a variável em questão em:\n",
    "\n",
    "\n",
    "    - Qualitativa;\n",
    "\n",
    "    - Quantitativa.\n",
    "    \n",
    "As __variáveis qualitativas__ possuí um atributo ou uma qualidade associado como resultado, nas __variáveis quantitativas__ possui ou uma quantidade ou mensuração.(BUSSAB; MORETTIN, 2004). Além disso, podemos subdivir essas classificações em:\n",
    "    \n",
    "    - Qualitativa nominal ou qualitativa ordinal;\n",
    "    \n",
    "    - Quantitativa discreta ou quantitativa continua;\n",
    "    \n",
    "A diferença entre __qualitativa nominal__ e __qualitativa ordinal__ é que na segunda classificação a ordem do atributo importa, um exemplo dessa classificação é vaŕiavel nível escolar de uma população. No exemplo da variável marcas de um carro a sua classificação é qualitativa nominal.\n",
    "\n",
    "Quando tratamos de __quantitativa discreta__ ou __quantitativa continua__ na primeira situação temos que os valores númericos são inteiros, ou de melhor forma, originários de uma contagem. Na segunda situação os valore númericos são reais, por isso são chamados contínuos."
   ]
  }
 ],
 "metadata": {
  "kernelspec": {
   "display_name": "Python 3 (ipykernel)",
   "language": "python",
   "name": "python3"
  },
  "language_info": {
   "codemirror_mode": {
    "name": "ipython",
    "version": 3
   },
   "file_extension": ".py",
   "mimetype": "text/x-python",
   "name": "python",
   "nbconvert_exporter": "python",
   "pygments_lexer": "ipython3",
   "version": "3.8.10"
  }
 },
 "nbformat": 4,
 "nbformat_minor": 5
}
