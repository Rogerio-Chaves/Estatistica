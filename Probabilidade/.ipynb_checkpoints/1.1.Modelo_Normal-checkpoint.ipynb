{
 "cells": [
  {
   "cell_type": "markdown",
   "id": "62577483",
   "metadata": {},
   "source": [
    "# O Modelo Normal\n",
    "\n",
    "Creation on August 23 2021.\n",
    "\n",
    "Last modification on October 13 2021.\n",
    "\n",
    "@author: Rogerio Chaves\n",
    "\n",
    "E-mail: chaves.rogerio@outlook.com\n",
    "\n",
    "github: "
   ]
  },
  {
   "cell_type": "markdown",
   "id": "3d287a8f",
   "metadata": {},
   "source": [
    "Importar bibliotecas"
   ]
  },
  {
   "cell_type": "code",
   "execution_count": 2,
   "id": "ddc42170",
   "metadata": {},
   "outputs": [],
   "source": [
    "import matplotlib.pyplot as plt\n",
    "from matplotlib import style\n",
    "import numpy as np\n",
    "from scipy.integrate import quad"
   ]
  },
  {
   "cell_type": "markdown",
   "id": "1c9f8586",
   "metadata": {},
   "source": [
    "Definir o estilo dos _plots_."
   ]
  },
  {
   "cell_type": "code",
   "execution_count": 3,
   "id": "95b20e40",
   "metadata": {},
   "outputs": [],
   "source": [
    "style.use('seaborn')"
   ]
  },
  {
   "cell_type": "markdown",
   "id": "f9346f20",
   "metadata": {},
   "source": [
    "Criar a função normal."
   ]
  },
  {
   "cell_type": "code",
   "execution_count": 4,
   "id": "9a1ab7b0",
   "metadata": {},
   "outputs": [],
   "source": [
    "def normal_function(x, mu, variance):\n",
    "    numerator = np.exp((((x - mu) ** 2)*(-1)) / (2*variance))\n",
    "    denominator = np.sqrt(2*np.pi*variance)\n",
    "    return numerator / denominator"
   ]
  },
  {
   "cell_type": "markdown",
   "id": "b4a22eb4",
   "metadata": {},
   "source": [
    "Criar a função normal acumulada."
   ]
  },
  {
   "cell_type": "code",
   "execution_count": 5,
   "id": "3967c5e9",
   "metadata": {},
   "outputs": [],
   "source": [
    "def cumulative_distribution_function(inferior_limit, upper_limit, mu, variance):\n",
    "    value =  quad(normal_function, \n",
    "                inferior_limit, \n",
    "                upper_limit, \n",
    "                (mu,variance))\n",
    "    return value[0]"
   ]
  },
  {
   "cell_type": "markdown",
   "id": "6ad4b8c5",
   "metadata": {},
   "source": [
    "Definir a média e a variância. \n",
    "\n",
    "Obs: Nos exemplos serão utilizados o modelo normal padrão com média = 0 e variância = 1."
   ]
  },
  {
   "cell_type": "code",
   "execution_count": 6,
   "id": "ad47989f",
   "metadata": {},
   "outputs": [],
   "source": [
    "# mean and variance\n",
    "mu = 0\n",
    "variance = 1"
   ]
  },
  {
   "cell_type": "markdown",
   "id": "be5cbd67",
   "metadata": {},
   "source": [
    "Definir os eixos x e y.\n",
    "\n",
    "No eixo x: utilizamos a função _arange_ do numpy para criar uma lista de valores uniformemente separada.\n",
    "\n",
    "No eixo y: aplicamos a função _normal_function_ para cada valor do eixo x e assim obtemos a lista de valores do eixo y."
   ]
  },
  {
   "cell_type": "code",
   "execution_count": 20,
   "id": "5f645d10",
   "metadata": {},
   "outputs": [],
   "source": [
    "# x and y coordinate values\n",
    "x_values = list(np.around(np.arange(mu - 5, mu + 5.01, 0.01), 2))\n",
    "y_values = list(map(lambda value: normal_function(value, mu, variance), x_values))"
   ]
  },
  {
   "cell_type": "markdown",
   "id": "80524b3a",
   "metadata": {},
   "source": [
    "Valor da coordenada (x,y) para o _plot_ de uma linha vertical."
   ]
  },
  {
   "cell_type": "code",
   "execution_count": 12,
   "id": "7996d8fa",
   "metadata": {},
   "outputs": [],
   "source": [
    "# (x,y) coordinate value for vertical line plot\n",
    "x_value_mu = x_values[int(len(x_values) / 2)]\n",
    "y_value_mu = normal_function(x_value_mu, mu, variance)"
   ]
  },
  {
   "cell_type": "markdown",
   "id": "66799391",
   "metadata": {},
   "source": [
    "### Unicaudal\n",
    "\n",
    "Definir o limite inferior e o limite superior de Z."
   ]
  },
  {
   "cell_type": "code",
   "execution_count": 13,
   "id": "75a9b73f",
   "metadata": {},
   "outputs": [],
   "source": [
    "# Z inferior value\n",
    "inferior_limit = np.NINF\n",
    "# Z upper value\n",
    "upper_limit = 1"
   ]
  },
  {
   "cell_type": "markdown",
   "id": "da5ca6d0",
   "metadata": {},
   "source": [
    "Probabilidade normal da área do limite inferior até o limite superior"
   ]
  },
  {
   "cell_type": "code",
   "execution_count": 14,
   "id": "29f77736",
   "metadata": {},
   "outputs": [],
   "source": [
    "# Normal probability\n",
    "normal_probability = np.around(\n",
    "    cumulative_distribution_function(inferior_limit, \n",
    "                                         upper_limit, \n",
    "                                         mu, variance), 4)\n",
    "normal_probability = np.around(normal_probability, 2)"
   ]
  },
  {
   "cell_type": "markdown",
   "id": "d6432d17",
   "metadata": {},
   "source": [
    "Definir a area de preenchimento."
   ]
  },
  {
   "cell_type": "code",
   "execution_count": 16,
   "id": "5a870402",
   "metadata": {},
   "outputs": [],
   "source": [
    "if inferior_limit == np.NINF or upper_limit == np.inf:\n",
    "    if inferior_limit == np.NINF and upper_limit == np.inf:\n",
    "        fill_index_start = 0\n",
    "        fill_index_end = len(x_values) - 1\n",
    "    else:\n",
    "        if inferior_limit == np.NINF:\n",
    "            fill_index_start = 0\n",
    "            fill_index_end = int(x_values.index(upper_limit))\n",
    "        if upper_limit == np.inf:\n",
    "            fill_index_start = int(x_values.index(inferior_limit))\n",
    "            fill_index_end = len(x_values) - 1            \n",
    "else:\n",
    "    fill_index_start = int(x_values.index(inferior_limit))\n",
    "    fill_index_end = int(x_values.index(upper_limit))"
   ]
  },
  {
   "cell_type": "code",
   "execution_count": 17,
   "id": "4b6ab151",
   "metadata": {},
   "outputs": [],
   "source": [
    "# Creation of the lists of x and y coordinates for the probability area.\n",
    "x_fill = x_values[fill_index_start:fill_index_end]\n",
    "y_fill = y_values[fill_index_start:fill_index_end]"
   ]
  },
  {
   "cell_type": "code",
   "execution_count": 21,
   "id": "d59b1a93",
   "metadata": {},
   "outputs": [
    {
     "data": {
      "image/png": "[encoded data removed]",
      "text/plain": [
       "<Figure size 576x396 with 1 Axes>"
      ]
     },
     "metadata": {},
     "output_type": "display_data"
    }
   ],
   "source": [
    "plt.plot(x_values, y_values, label='Normal function')\n",
    "plt.vlines(x_value_mu, 0, y_value_mu, ls='dashed', color='black')\n",
    "plt.title('The Normal Model')\n",
    "plt.xlabel('x values')\n",
    "plt.ylabel('value in normal function')\n",
    "plt.text(-5, 0.37, 'mu = {}'.format(mu))\n",
    "plt.text(-5, 0.35, 'sigma = {}'.format(np.sqrt(variance)))\n",
    "plt.text(-5, 0.20, 'The Probability Area\\n is {}'.format(normal_probability))\n",
    "plt.fill_between(x_fill, y_fill)\n",
    "plt.legend(title='Legend')\n",
    "plt.show()"
   ]
  },
  {
   "cell_type": "markdown",
   "id": "343eb828",
   "metadata": {},
   "source": [
    "### Bicaudal"
   ]
  },
  {
   "cell_type": "code",
   "execution_count": null,
   "id": "b1528c24",
   "metadata": {},
   "outputs": [],
   "source": []
  },
  {
   "cell_type": "code",
   "execution_count": null,
   "id": "1d732c57",
   "metadata": {},
   "outputs": [],
   "source": []
  }
 ],
 "metadata": {
  "kernelspec": {
   "display_name": "Python 3 (ipykernel)",
   "language": "python",
   "name": "python3"
  },
  "language_info": {
   "codemirror_mode": {
    "name": "ipython",
    "version": 3
   },
   "file_extension": ".py",
   "mimetype": "text/x-python",
   "name": "python",
   "nbconvert_exporter": "python",
   "pygments_lexer": "ipython3",
   "version": "3.8.10"
  }
 },
 "nbformat": 4,
 "nbformat_minor": 5
}
