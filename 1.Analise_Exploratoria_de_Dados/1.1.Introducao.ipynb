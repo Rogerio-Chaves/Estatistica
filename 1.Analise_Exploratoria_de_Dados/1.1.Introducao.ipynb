{
 "cells": [
  {
   "cell_type": "markdown",
   "id": "5f48b370",
   "metadata": {},
   "source": [
    "# 1.1. Introdução\n",
    "\n",
    "Created on August 7 2021.\n",
    "\n",
    "@author: Rogerio Chaves\n",
    "\n",
    "E-mail: chaves.rogerio@outlook.com"
   ]
  },
  {
   "cell_type": "markdown",
   "id": "539ba500",
   "metadata": {},
   "source": [
    "## O que é estatística?\n",
    "\n",
    "Conforme (TRIOLA, 2015), \"Estatística é a ciência do planejamento de estudos e experimentos, da obtenção de dados e, em seguida, da organização, resumo, apresentação, análise, interpretação e elaboração de conclusões com base nos dados\"."
   ]
  },
  {
   "cell_type": "markdown",
   "id": "72afccbd",
   "metadata": {},
   "source": [
    "## População ou Amostra\n",
    "\n",
    "Quando trabalhamos com dados denominamos de <b> população</b> significa que as observações foram obtidas de todos os membros da população a ser estudada. Por exemplo, se queremos obter a média geral dos alunos da universidade A, se temos a média de todos os alunos da univerdade, então teremos o valor oriundo de uma população, pois contém todos os membros da população a ser estudada.\n",
    "\n",
    "Quando denominamos <b>amostra</b> significa que temos apenas uma subcoleção dos membros da população. Por exemplo, dado o exemplo acima, se tivessemos a média de apenas alguns alunos da universidade, teriamos o valor oriundo de uma amostra."
   ]
  },
  {
   "cell_type": "markdown",
   "id": "4549493a",
   "metadata": {},
   "source": [
    "## O que é uma variável?\n",
    "\n",
    "Uma variável é uma característica associada a um resultado que queremos inferir sobre uma população/amostra (BUSSAB; MORETTIN, 2004). Por exemplo, dado uma amostra de carros de uma determinada cidade queremos saber quantos são da marca Honda. Nessa situação, a marca do carro é a variável e as possíveis marcas é o resultado que está associado a ela (entre elas a Honda), pois cada carro está associado a uma marca.\n",
    "\n",
    "Cabe salientar que uma população ou amostra possui diversas varíaveis (ou características) atreladas a ela que podemos associar a um resultado. No exemplo de amostra de carros, além da variável marca, podeiramos ter como variável a cor, o consumo de combustível, a potência do motor e entre outros. "
   ]
  },
  {
   "cell_type": "markdown",
   "id": "2ddc7f39",
   "metadata": {},
   "source": [
    "## Tipos de variável\n",
    "\n",
    "Cada variável possui um resultado atrelado e a partir desse resultado podemos classificar a variável em questão em:\n",
    "\n",
    "\n",
    "    - Categórica (ou qualitativa);\n",
    "\n",
    "    - Quantitativa.\n",
    "    \n",
    "As __variáveis qualitativas (ou categóricas)__ possuí um atributo, categórica ou uma qualidade associado como resultado ou u número que não representa quantidade ou mensuração, nas __variáveis quantitativas__ possui ou uma quantidade ou mensuração.(BUSSAB; MORETTIN, 2004)(TRIOLA, 2015). Além disso, podemos subdivir essas classificações em:\n",
    "    \n",
    "    - Qualitativa nominal ou qualitativa ordinal;\n",
    "    \n",
    "    - Quantitativa discreta ou quantitativa continua;\n",
    "    \n",
    "A diferença entre __qualitativa nominal__ e __qualitativa ordinal__ é que na segunda classificação a ordem do atributo importa, um exemplo dessa classificação é vaŕiavel nível escolar de uma população. No exemplo da variável marcas de um carro a sua classificação é qualitativa nominal.\n",
    "\n",
    "Quando tratamos de __quantitativa discreta__ ou __quantitativa continua__ na primeira situação temos que os valores númericos são inteiros, ou de melhor forma, originários de uma contagem. Na segunda situação os valore númericos são reais, por isso são chamados contínuos."
   ]
  },
  {
   "cell_type": "markdown",
   "id": "2d22136e",
   "metadata": {},
   "source": [
    "## Referências:\n",
    "\n",
    "BUSSAB, Wilton de O.; MORETTIN, Pedro A. Estatística Básica. 5ª edição. São Paulo: Editora Saraiva. 2004.\n",
    "\n",
    "TRIOLA, Mario F. Introdução à Estatistica: atualização da tecnologia. 11ª edição. Rio de Janeiro: LTC. 2015."
   ]
  }
 ],
 "metadata": {
  "kernelspec": {
   "display_name": "Python 3.10.6 64-bit",
   "language": "python",
   "name": "python3"
  },
  "language_info": {
   "codemirror_mode": {
    "name": "ipython",
    "version": 3
   },
   "file_extension": ".py",
   "mimetype": "text/x-python",
   "name": "python",
   "nbconvert_exporter": "python",
   "pygments_lexer": "ipython3",
   "version": "3.10.6"
  },
  "vscode": {
   "interpreter": {
    "hash": "916dbcbb3f70747c44a77c7bcd40155683ae19c65e1c03b4aa3499c5328201f1"
   }
  }
 },
 "nbformat": 4,
 "nbformat_minor": 5
}
