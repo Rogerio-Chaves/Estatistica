{
 "cells": [
  {
   "cell_type": "markdown",
   "id": "5b8b35d2",
   "metadata": {},
   "source": [
    "# 1.6.Tabela de Distribuição de Frequência\n",
    "\n",
    "\n",
    "Creation on August 10 2021.\n",
    "\n",
    "Last modification on September 03 2022.\n",
    "\n",
    "@author: Rogerio Chaves\n",
    "\n",
    "E-mail: chaves.rogerio@outlook.com"
   ]
  },
  {
   "cell_type": "markdown",
   "id": "9425fec3",
   "metadata": {},
   "source": [
    "__O que é uma Tabela de Distribuição de Frequência?__\n",
    "\n",
    "Uma tabela de distribuição de frequência tem por objetivo organizar o conjunto de dados sobre uma variável em uma grupos (que será chamado de classes), onde a partir de suas frquências pode-se de obter algumas informações, de outra forma, \"[...] conhecer o _comportamento_ dessa variável, analisando a ocorrência de suas possíveis realizações.\"(BUSSAB e MORETTIN, 2004)"
   ]
  },
  {
   "cell_type": "markdown",
   "id": "2af2d995",
   "metadata": {},
   "source": [
    "Importar as bibliotecas"
   ]
  },
  {
   "cell_type": "code",
   "execution_count": 64,
   "id": "5edc76d3",
   "metadata": {},
   "outputs": [],
   "source": [
    "import numpy as np\n",
    "import pandas as pd\n",
    "from math import sqrt,ceil\n",
    "from statistics import mean, median, mode, pstdev\n",
    "import matplotlib.pyplot as plt\n",
    "import matplotlib.style as style"
   ]
  },
  {
   "cell_type": "code",
   "execution_count": 65,
   "id": "c49f5338",
   "metadata": {},
   "outputs": [],
   "source": [
    "style.use('seaborn')"
   ]
  },
  {
   "cell_type": "markdown",
   "id": "ae09b03a",
   "metadata": {},
   "source": [
    "## Variável quantitativa discreta\n",
    "Definir o conjunto de dados.\n",
    "\n",
    "Neste exemplo trata-se de um conjunto de dados fictício sobre o número de computadores (incluindo _laptop_) e _smartphones_ de uma amostra de 170 familias da cidade A."
   ]
  },
  {
   "cell_type": "code",
   "execution_count": 100,
   "id": "2f822078",
   "metadata": {},
   "outputs": [],
   "source": [
    "values = [\n",
    "    5, 4, 1, 7, 2, 1, 5, 3, 2, 3, 5 , 6, 7, 5, 4, 4, 1, 1, 2, 5, 4, 1, 7, 8, 5, 3, 1, 5, 4, 1, 7, 5, 10, 1,\n",
    "    7, 2, 1, 5, 3, 2, 3, 5 , 6, 7, 5, 4, 4, 1, 1, 2, 5, 4, 1, 7, 8, 5, 3, 1, 5, 6, 4, 3, 5, 7, 1, 2, 1, 3,\n",
    "    7, 4, 6, 2, 3, 1, 5, 5, 4, 1, 7, 2, 1, 5, 3, 2, 3, 5 , 6, 7, 5, 4, 4, 1, 1, 2, 5, 4, 1, 7, 8, 5, 3, 1, \n",
    "    5, 4, 1, 7, 5, 10, 1, 7, 2, 1, 5, 3, 2, 3, 5 , 6, 7, 5, 4, 4, 1, 1, 2, 5, 4, 1, 7, 8, 5, 3, 1, 5, 6, 4, \n",
    "    3, 5, 7, 1, 2, 1, 3, 7, 4, 6, 2, 3, 1, 5, 2, 5, 7, 5, 5, 4, 3, 2, 5, 3, 5, 4, 2, 1, 5, 8, 7, 5, 10, 10,\n",
    "]"
   ]
  },
  {
   "cell_type": "code",
   "execution_count": 101,
   "id": "79b1ee34",
   "metadata": {},
   "outputs": [
    {
     "data": {
      "text/plain": [
       "170"
      ]
     },
     "execution_count": 101,
     "metadata": {},
     "output_type": "execute_result"
    }
   ],
   "source": [
    "len(values)"
   ]
  },
  {
   "cell_type": "markdown",
   "id": "f79293da",
   "metadata": {},
   "source": [
    "Antes da construção da tabela de distribuição de frequência, ainda com os dados brutos, podemos obter algumas informações sobre o conjunto de dados."
   ]
  },
  {
   "cell_type": "markdown",
   "id": "e7f0f987",
   "metadata": {},
   "source": [
    "Tornar em ordem crescente o conjunto de dados brutos."
   ]
  },
  {
   "cell_type": "code",
   "execution_count": 102,
   "id": "23208ff0",
   "metadata": {},
   "outputs": [],
   "source": [
    "values.sort()"
   ]
  },
  {
   "cell_type": "markdown",
   "id": "aa99d3a9",
   "metadata": {},
   "source": [
    "Obter a média, a mediana e a moda dos dados.\n",
    "\n",
    "__Média:__ é uma medida que busca resumir, considerando todos os valores do conjunto de dados, em um valor central.\n",
    "\n",
    "__Mediana:__ é a medida que divide o conjunto de dados __exatamente__ ao meio (em conjuntos de tamanho par é a média do dois valores centrais), por esse motivo que devemos tornar o conjunto de dados em ordem crescente.\n",
    "\n",
    "__Moda:__ é o valor que mais se repete no conjunto de dados, pode não haver nenhum e poder haver multiplos valore modais.\n",
    "\n",
    "O uso de uma (ou mais) medidas de tendência depende da _sensibilidade estatística_ do pesquisador, a partir do que cada uma representa e da necessidade."
   ]
  },
  {
   "cell_type": "code",
   "execution_count": 103,
   "id": "48e2d1e3",
   "metadata": {
    "scrolled": true
   },
   "outputs": [
    {
     "name": "stdout",
     "output_type": "stream",
     "text": [
      "Média: 4.01\n",
      "Mediana: 4.0\n",
      "Moda: 5\n"
     ]
    }
   ],
   "source": [
    "# Mean\n",
    "mean_value = np.around(mean(values),2)\n",
    "print('Média: {}'.format(mean_value))\n",
    "\n",
    "# Median\n",
    "median_value = np.around(median(values),2)\n",
    "print('Mediana: {}'.format(median_value))\n",
    "\n",
    "# Mode\n",
    "mode_value = np.around(mode(values),2)\n",
    "print('Moda: {}'.format(mode_value))"
   ]
  },
  {
   "cell_type": "markdown",
   "id": "d3b2a386",
   "metadata": {},
   "source": [
    "Neste situação, vemos que média do número de computadores e _smartphone_ das amostra de 150 familias é de 4.01, a quantidade que divide o conjunto de dados ao meio é 4 e a quantidade mais frequente no conjunto de dados é 5."
   ]
  },
  {
   "cell_type": "markdown",
   "id": "8e2006b3",
   "metadata": {},
   "source": [
    "Com o conjunto de dados podemos criar um gráfico _Boxplot_"
   ]
  },
  {
   "cell_type": "code",
   "execution_count": 104,
   "id": "2e0889c0",
   "metadata": {},
   "outputs": [
    {
     "data": {
      "image/png": "[encoded data removed]",
      "text/plain": [
       "<Figure size 576x396 with 1 Axes>"
      ]
     },
     "metadata": {},
     "output_type": "display_data"
    }
   ],
   "source": [
    "plt.boxplot(values)\n",
    "plt.title('Boxplot - Quantidade de computadores e _smartphones_\\n de uma amostra de 150 familias da cidade A.')\n",
    "plt.ylabel('Quantidade')\n",
    "plt.text(1.1, median_value, str(median_value))\n",
    "plt.show()"
   ]
  },
  {
   "cell_type": "markdown",
   "id": "20678a54",
   "metadata": {},
   "source": [
    "Podemos observar que há _outliers_ no conjunto de dados, um _outliers_ são valores no conjunto de dados átipicos ao comportamento do restante do conjunto. Geralmente pode ser ocasionados por erros na coleta de dados ou por situações que realmentes causam esses valores átipicos no conjunto. Na amostra apresentada, uma explicação plausível para o aparecimento de _outliers_ com o valor 10 é uma familia com um número de membros com computador ou _laptop_ maior do que as outras familias.\n",
    "\n",
    "Em situações em que ocorrem _outliers_ é neecessário uma análise do pesquisador, pois é necessário tomar uma decisão em relação a eles, de exclui-lo, de remove-lo (para ser analisado separadamente) ou mante-lo no conjunto de dados. No exemplo dado, a decisão sobre os _outliers_ é de mante-los no conjunto de dados, dado que não há indícios que seja um erro e há uma hipótese plausível em relação a eles.\n",
    "\n",
    "Além disso, vemos uma concentração dos dados abaixo de 5 de aproximadamente 3 quartis (ou 75%) dos dados.\n",
    "\n",
    "Para construção da tabela de distribuição de frequência precisamos compreender a nossa variável, recomenda-se a leitura do _notebook_ sobre classificação de variáveis. A variável do exemplo dado, sobre a quantidade de computadores e smartphones de uma amostra de 150 familias da cidade A, é classificada como quantitativa discreta.\n",
    "\n",
    "Após a classificação do tipo da variável, podemos entender melhor como ocorrerá a construção da tabela de distribuição de frequência. Primeiramente, precisamos obter o número de classes e se será com intervalo ou não, se for qual seria a amplitude delas.\n",
    "\n",
    "A decisão sobre a tabela de distribuição de frequência será de que as classes não serão com intervalo, ao invés disso, as possíveis realizações para as ocorrências do conjunto de dados."
   ]
  },
  {
   "cell_type": "code",
   "execution_count": 166,
   "id": "4e58c3ef",
   "metadata": {},
   "outputs": [
    {
     "data": {
      "text/plain": [
       "[1, 2, 3, 4, 5, 6, 7, 8, 9, 10]"
      ]
     },
     "execution_count": 166,
     "metadata": {},
     "output_type": "execute_result"
    }
   ],
   "source": [
    "classes = list(pd.DataFrame(values).groupby(0).count().reset_index()[0])\n",
    "classes.append(9)\n",
    "classes.sort()\n",
    "classes"
   ]
  },
  {
   "cell_type": "markdown",
   "id": "6f4014a4",
   "metadata": {},
   "source": [
    "Criar uma lista com a frequência absoluta de cada classe."
   ]
  },
  {
   "cell_type": "code",
   "execution_count": 182,
   "id": "57a55b81",
   "metadata": {},
   "outputs": [
    {
     "data": {
      "text/plain": [
       "[33, 19, 20, 22, 39, 8, 20, 5, 0, 4]"
      ]
     },
     "execution_count": 182,
     "metadata": {},
     "output_type": "execute_result"
    }
   ],
   "source": [
    "#fi: absolute frequency\n",
    "fi = []\n",
    "for i in range(0, len(classes)):\n",
    "    frequency = 0\n",
    "    for value in values:\n",
    "        if value == classes[i]:    \n",
    "            frequency +=1\n",
    "    fi.append(frequency)\n",
    "    \n",
    "fi"
   ]
  },
  {
   "cell_type": "markdown",
   "id": "35fea3db",
   "metadata": {},
   "source": [
    "Criar uma lista com a frequência relativa de cada classe, na forma de por cento (%). Essa lista é criada a partir da lista de frequência absoluta."
   ]
  },
  {
   "cell_type": "code",
   "execution_count": 181,
   "id": "b0686f4d",
   "metadata": {},
   "outputs": [
    {
     "data": {
      "text/plain": [
       "[19.0, 11.0, 12.0, 13.0, 23.0, 5.0, 12.0, 3.0, 0.0, 2.0]"
      ]
     },
     "execution_count": 181,
     "metadata": {},
     "output_type": "execute_result"
    }
   ],
   "source": [
    "#fi_relative: relative frequency\n",
    "fi_relative = []\n",
    "for value in fi:\n",
    "    element = np.around(value / len(values), 2)\n",
    "    element = element * 100\n",
    "    fi_relative.append(element)\n",
    "    \n",
    "fi_relative"
   ]
  },
  {
   "cell_type": "markdown",
   "id": "a414ca22",
   "metadata": {},
   "source": [
    "Função _cumulate_: dado uma lista de valores, retorna uma lista com os seus valores acumulados, por exemplo, list_accumulated[0] = values[0]; list_accumulated[1] = values[0] + values[1]; e assim sucessivamente."
   ]
  },
  {
   "cell_type": "code",
   "execution_count": 171,
   "id": "b25b7ad8",
   "metadata": {},
   "outputs": [],
   "source": [
    "def cumulate(values):\n",
    "    list_accumulated = [values[0]]\n",
    "    for counter in range(1, len(values)):\n",
    "        element = list_accumulated[counter - 1] + values[counter]\n",
    "        element = np.around(element, 2)\n",
    "        list_accumulated.append(element)\n",
    "    \n",
    "    return list_accumulated "
   ]
  },
  {
   "cell_type": "markdown",
   "id": "42411288",
   "metadata": {},
   "source": [
    "Utilização da função _cumulate_ para obter uma lista com a frequencia absoluta acumulada."
   ]
  },
  {
   "cell_type": "code",
   "execution_count": 179,
   "id": "ccf061a1",
   "metadata": {},
   "outputs": [
    {
     "data": {
      "text/plain": [
       "[33, 52, 72, 94, 133, 141, 161, 166, 166, 170]"
      ]
     },
     "execution_count": 179,
     "metadata": {},
     "output_type": "execute_result"
    }
   ],
   "source": [
    "#fi: cumulative absolute frequency\n",
    "fi_accumulated = cumulate(fi)\n",
    "fi_accumulated"
   ]
  },
  {
   "cell_type": "markdown",
   "id": "436b2602",
   "metadata": {},
   "source": [
    "Utilização da função _cumulate_ para obter uma lista com a frequencia absoluta acumulada."
   ]
  },
  {
   "cell_type": "code",
   "execution_count": 180,
   "id": "fd7370ba",
   "metadata": {},
   "outputs": [
    {
     "data": {
      "text/plain": [
       "[19.0, 30.0, 42.0, 55.0, 78.0, 83.0, 95.0, 98.0, 98.0, 100.0]"
      ]
     },
     "execution_count": 180,
     "metadata": {},
     "output_type": "execute_result"
    }
   ],
   "source": [
    "#_100fi_relative: cumulative relative (in %) frequency\n",
    "fi_relative_accumulated = cumulate(fi_relative)\n",
    "fi_relative_accumulated"
   ]
  },
  {
   "cell_type": "markdown",
   "id": "a782a9ff",
   "metadata": {},
   "source": [
    "Contruir o DataFrame."
   ]
  },
  {
   "cell_type": "code",
   "execution_count": 175,
   "id": "22e8ffb5",
   "metadata": {},
   "outputs": [],
   "source": [
    "data_names = ['Fi', 'Fi (%)', 'Fi Acumulado', 'Fi (%) Acumulado']\n",
    "data_values = [fi, fi_relative, fi_accumulated, fi_relative_accumulated]\n",
    "\n",
    "data_values = np.matrix(data_values)\n",
    "data_values = data_values.reshape((4,10))\n",
    "data_values = data_values.transpose()"
   ]
  },
  {
   "cell_type": "code",
   "execution_count": 177,
   "id": "a514f252",
   "metadata": {},
   "outputs": [],
   "source": [
    "frequency_distribution = pd.DataFrame(index=classes, data=data_values, columns=data_names)"
   ]
  },
  {
   "cell_type": "code",
   "execution_count": 178,
   "id": "d97b3b1c",
   "metadata": {},
   "outputs": [
    {
     "data": {
      "text/html": [
       "<div>\n",
       "<style scoped>\n",
       "    .dataframe tbody tr th:only-of-type {\n",
       "        vertical-align: middle;\n",
       "    }\n",
       "\n",
       "    .dataframe tbody tr th {\n",
       "        vertical-align: top;\n",
       "    }\n",
       "\n",
       "    .dataframe thead th {\n",
       "        text-align: right;\n",
       "    }\n",
       "</style>\n",
       "<table border=\"1\" class=\"dataframe\">\n",
       "  <thead>\n",
       "    <tr style=\"text-align: right;\">\n",
       "      <th></th>\n",
       "      <th>Fi</th>\n",
       "      <th>Fi (%)</th>\n",
       "      <th>Fi Acumulado</th>\n",
       "      <th>Fi (%) Acumulado</th>\n",
       "    </tr>\n",
       "  </thead>\n",
       "  <tbody>\n",
       "    <tr>\n",
       "      <th>1</th>\n",
       "      <td>33.0</td>\n",
       "      <td>19.0</td>\n",
       "      <td>33.0</td>\n",
       "      <td>19.0</td>\n",
       "    </tr>\n",
       "    <tr>\n",
       "      <th>2</th>\n",
       "      <td>19.0</td>\n",
       "      <td>11.0</td>\n",
       "      <td>52.0</td>\n",
       "      <td>30.0</td>\n",
       "    </tr>\n",
       "    <tr>\n",
       "      <th>3</th>\n",
       "      <td>20.0</td>\n",
       "      <td>12.0</td>\n",
       "      <td>72.0</td>\n",
       "      <td>42.0</td>\n",
       "    </tr>\n",
       "    <tr>\n",
       "      <th>4</th>\n",
       "      <td>22.0</td>\n",
       "      <td>13.0</td>\n",
       "      <td>94.0</td>\n",
       "      <td>55.0</td>\n",
       "    </tr>\n",
       "    <tr>\n",
       "      <th>5</th>\n",
       "      <td>39.0</td>\n",
       "      <td>23.0</td>\n",
       "      <td>133.0</td>\n",
       "      <td>78.0</td>\n",
       "    </tr>\n",
       "    <tr>\n",
       "      <th>6</th>\n",
       "      <td>8.0</td>\n",
       "      <td>5.0</td>\n",
       "      <td>141.0</td>\n",
       "      <td>83.0</td>\n",
       "    </tr>\n",
       "    <tr>\n",
       "      <th>7</th>\n",
       "      <td>20.0</td>\n",
       "      <td>12.0</td>\n",
       "      <td>161.0</td>\n",
       "      <td>95.0</td>\n",
       "    </tr>\n",
       "    <tr>\n",
       "      <th>8</th>\n",
       "      <td>5.0</td>\n",
       "      <td>3.0</td>\n",
       "      <td>166.0</td>\n",
       "      <td>98.0</td>\n",
       "    </tr>\n",
       "    <tr>\n",
       "      <th>9</th>\n",
       "      <td>0.0</td>\n",
       "      <td>0.0</td>\n",
       "      <td>166.0</td>\n",
       "      <td>98.0</td>\n",
       "    </tr>\n",
       "    <tr>\n",
       "      <th>10</th>\n",
       "      <td>4.0</td>\n",
       "      <td>2.0</td>\n",
       "      <td>170.0</td>\n",
       "      <td>100.0</td>\n",
       "    </tr>\n",
       "  </tbody>\n",
       "</table>\n",
       "</div>"
      ],
      "text/plain": [
       "      Fi  Fi (%)  Fi Acumulado  Fi (%) Acumulado\n",
       "1   33.0    19.0          33.0              19.0\n",
       "2   19.0    11.0          52.0              30.0\n",
       "3   20.0    12.0          72.0              42.0\n",
       "4   22.0    13.0          94.0              55.0\n",
       "5   39.0    23.0         133.0              78.0\n",
       "6    8.0     5.0         141.0              83.0\n",
       "7   20.0    12.0         161.0              95.0\n",
       "8    5.0     3.0         166.0              98.0\n",
       "9    0.0     0.0         166.0              98.0\n",
       "10   4.0     2.0         170.0             100.0"
      ]
     },
     "execution_count": 178,
     "metadata": {},
     "output_type": "execute_result"
    }
   ],
   "source": [
    "frequency_distribution"
   ]
  },
  {
   "cell_type": "markdown",
   "id": "f8c3c1aa",
   "metadata": {},
   "source": [
    "_Plots_ com algumas informações da tabela."
   ]
  },
  {
   "cell_type": "code",
   "execution_count": 204,
   "id": "f07677de",
   "metadata": {},
   "outputs": [
    {
     "data": {
      "image/png": "[encoded data removed]",
      "text/plain": [
       "<Figure size 1080x504 with 2 Axes>"
      ]
     },
     "metadata": {},
     "output_type": "display_data"
    }
   ],
   "source": [
    "figure = plt.figure(figsize=(15,7))\n",
    "figure.suptitle('Gráficos da distribuição Quantidade de computadores e smartphones ' \n",
    "                + 'de uma amostra de 150 familias da cidade A')\n",
    "plots = figure.subplots(nrows=1, ncols=2)\n",
    "\n",
    "plots[0].bar(frequency_distribution.index, frequency_distribution['Fi'])\n",
    "plots[0].set_title('Frequência absoluta')\n",
    "plots[0].set_xlabel('Nº de computadores ou smartphone')\n",
    "plots[0].set_ylabel('Ocorrência')\n",
    "\n",
    "plots[1].pie(x=frequency_distribution['Fi (%)'], \n",
    "             labels=list(map(lambda value: '{}%'.format(value), fi_relative)), \n",
    "             explode=list(map(lambda value: 0.01, range(0, len(classes)))))\n",
    "plots[1].set_title('Distribuição (em %) das quantidades')\n",
    "plots[1].legend(bbox_to_anchor=(0.8,0.2,0.5,0.5), title='Legenda', \n",
    "                labels=list(map(lambda value: '{}: {}%'.format(classes[value], fi_relative[value]), \n",
    "                                range(0, len(classes)))))\n",
    "\n",
    "plt.show()"
   ]
  },
  {
   "cell_type": "markdown",
   "id": "8c128244",
   "metadata": {},
   "source": [
    "## Referências:\n",
    "\n",
    "BUSSAB, Wilton de O.; MORETTIN, Pedro A. Estatística Básica. 5ª edição. São Paulo: Editora Saraiva, 2004."
   ]
  },
  {
   "cell_type": "code",
   "execution_count": null,
   "id": "e390d53f",
   "metadata": {},
   "outputs": [],
   "source": []
  }
 ],
 "metadata": {
  "kernelspec": {
   "display_name": "Python 3 (ipykernel)",
   "language": "python",
   "name": "python3"
  },
  "language_info": {
   "codemirror_mode": {
    "name": "ipython",
    "version": 3
   },
   "file_extension": ".py",
   "mimetype": "text/x-python",
   "name": "python",
   "nbconvert_exporter": "python",
   "pygments_lexer": "ipython3",
   "version": "3.8.10"
  }
 },
 "nbformat": 4,
 "nbformat_minor": 5
}
