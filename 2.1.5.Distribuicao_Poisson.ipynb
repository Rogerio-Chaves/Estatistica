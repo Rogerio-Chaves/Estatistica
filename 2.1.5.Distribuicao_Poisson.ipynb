{
 "cells": [
  {
   "attachments": {},
   "cell_type": "markdown",
   "id": "15ce31a0",
   "metadata": {},
   "source": [
    "# Distribuição de Poisson\n",
    "\n",
    "Creation on October 17 2021.\n",
    "\n",
    "@author: Rogerio Chaves\n",
    "\n",
    "E-mail: chaves.rogerio@outlook.com"
   ]
  },
  {
   "attachments": {},
   "cell_type": "markdown",
   "id": "6fc7a4ab",
   "metadata": {},
   "source": [
    "\"Na teoria da probabilidade e na estatística, a distribuição de Poisson é uma distribuição de probabilidade de variável aleatória discreta que expressa a probabilidade de uma série de eventos ocorrer num certo período de tempo se estes eventos ocorrem independentemente de quando ocorreu o último evento.\" (Distribuição de Poisson, 2021) "
   ]
  },
  {
   "attachments": {},
   "cell_type": "markdown",
   "id": "c0e89c4a",
   "metadata": {},
   "source": [
    "Importar bibliotecas."
   ]
  },
  {
   "cell_type": "code",
   "execution_count": 1,
   "id": "cee265a1",
   "metadata": {},
   "outputs": [],
   "source": [
    "from scipy.special import factorial\n",
    "import numpy as np"
   ]
  },
  {
   "attachments": {},
   "cell_type": "markdown",
   "id": "06b7c545",
   "metadata": {},
   "source": [
    "Definição da função de probabilidade da distribuição de poisson.\n",
    "\n",
    "Dado por,\n",
    "\n",
    "$\n",
    "f(k, \\lambda) = \\frac{e^{-\\lambda} \\cdot \\lambda^k}{k!}\n",
    "$\n",
    "\n",
    "e: base do logaritmo natural;\n",
    "\n",
    "k: número de ocorrências requerida para a probabilidade (Não pode ser negativo);\n",
    "\n",
    "$\\lambda$: é um número real, igual ao número esperado de ocorrências que ocorrem num dado intervalo de tempo."
   ]
  },
  {
   "cell_type": "code",
   "execution_count": 2,
   "id": "368854f2",
   "metadata": {},
   "outputs": [],
   "source": [
    "def poisson(k, y):\n",
    "    return (np.exp(-y) * y ** k) / factorial(k)"
   ]
  },
  {
   "attachments": {},
   "cell_type": "markdown",
   "id": "aed26278",
   "metadata": {},
   "source": [
    "Exemplo 6.18 Do Livro de Estatítica Básica de Bussab e Morettin (BUSSAB, MORETTIN, 2004)\n",
    "\n",
    "Um PBX recebe, em média, cinco chamadas por minuto. Supondo que a distribuição de Poisson seja adequada nessa situação, obter a probabilidade de que o PBX não receba chamadas durante um intrvalo de um minuto.\n",
    "\n",
    "Das informações do exemplo podemos extrair os dois parâmetros requeridos:\n",
    "\n",
    "k = 0\n",
    "\n",
    "$\\lambda$ = 5"
   ]
  },
  {
   "cell_type": "code",
   "execution_count": 3,
   "id": "5eb52d08",
   "metadata": {},
   "outputs": [],
   "source": [
    "k = 0\n",
    "y = 5"
   ]
  },
  {
   "cell_type": "code",
   "execution_count": 4,
   "id": "dcdb3476",
   "metadata": {},
   "outputs": [
    {
     "name": "stdout",
     "output_type": "stream",
     "text": [
      "Probability is 0.67%.\n"
     ]
    }
   ],
   "source": [
    "probability = np.around(poisson(k, y) * 100, 2)\n",
    "print(f'Probability is {probability}%.')"
   ]
  },
  {
   "attachments": {},
   "cell_type": "markdown",
   "id": "2ce7db08",
   "metadata": {},
   "source": [
    "E se quiermos obter no máximo duas chamadas em um minutos?\n",
    "\n",
    "Para isso, $P(k \\leq 2) = P(k = 0) + P(k = 1) + P(k = 2)$"
   ]
  },
  {
   "cell_type": "code",
   "execution_count": 5,
   "id": "ad457f64",
   "metadata": {},
   "outputs": [
    {
     "name": "stdout",
     "output_type": "stream",
     "text": [
      "Probability is 12.0%.\n"
     ]
    }
   ],
   "source": [
    "probability_0 = np.around(poisson(0, 5), 2)\n",
    "probability_1 = np.around(poisson(1, 5), 2)\n",
    "probability_2 = np.around(poisson(2, 5), 2)\n",
    "probability = probability_0 + probability_1 + probability_2\n",
    "print(f'Probability is {probability*100}%.')"
   ]
  },
  {
   "attachments": {},
   "cell_type": "markdown",
   "id": "74f4805c",
   "metadata": {},
   "source": [
    "## Referências\n",
    "\n",
    "BUSSAB, Wilton de O.; MORETTIN, Pedro A. Estatística Básica. 5ª edição. São Paulo: Editora Saraiva, 2004.\n",
    "\n",
    "DISTRIBUIÇÃO de Poisson. In: WIKIPÉDIA: a enciclopédia livre. Wikimedia, 2021. Disponível em <https://pt.wikipedia.org/wiki/Distribui%C3%A7%C3%A3o_de_Poisson>. Acesso em 18 de out. de 2021."
   ]
  }
 ],
 "metadata": {
  "kernelspec": {
   "display_name": "Python 3 (ipykernel)",
   "language": "python",
   "name": "python3"
  },
  "language_info": {
   "codemirror_mode": {
    "name": "ipython",
    "version": 3
   },
   "file_extension": ".py",
   "mimetype": "text/x-python",
   "name": "python",
   "nbconvert_exporter": "python",
   "pygments_lexer": "ipython3",
   "version": "3.8.10"
  }
 },
 "nbformat": 4,
 "nbformat_minor": 5
}
