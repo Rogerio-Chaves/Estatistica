{
 "cells": [
  {
   "attachments": {},
   "cell_type": "markdown",
   "id": "5b8b35d2",
   "metadata": {},
   "source": [
    "# 1.4. Tabela de Distribuição de Frequência\n",
    "\n",
    "\n",
    "Creation on August 7 2021.\n",
    "\n",
    "@author: Rogerio Chaves\n",
    "\n",
    "E-mail: chaves.rogerio@outlook.com"
   ]
  },
  {
   "attachments": {},
   "cell_type": "markdown",
   "id": "9425fec3",
   "metadata": {},
   "source": [
    "__O que é uma Tabela de Distribuição de Frequência?__\n",
    "\n",
    "Uma tabela de distribuição de frequência tem por objetivo organizar o conjunto de dados sobre uma variável em grupos (que será chamado de classes), onde a partir de suas frquências pode-se de obter algumas informações, de outra forma, \"[...] conhecer o _comportamento_ dessa variável, analisando a ocorrência de suas possíveis realizações.\"(BUSSAB e MORETTIN, 2004)"
   ]
  },
  {
   "attachments": {},
   "cell_type": "markdown",
   "id": "2af2d995",
   "metadata": {},
   "source": [
    "Importar as bibliotecas"
   ]
  },
  {
   "cell_type": "code",
   "execution_count": 63,
   "id": "5edc76d3",
   "metadata": {},
   "outputs": [],
   "source": [
    "import numpy as np\n",
    "import pandas as pd\n",
    "from math import sqrt,ceil\n",
    "from statistics import mean, median, mode, pstdev\n",
    "import matplotlib.pyplot as plt\n",
    "import matplotlib.style as style\n",
    "\n",
    "style.use('seaborn-v0_8')"
   ]
  },
  {
   "attachments": {},
   "cell_type": "markdown",
   "id": "b6d2f83a",
   "metadata": {},
   "source": [
    "## Variável qualitativa nominal\n",
    "\n",
    "Obter o conjunto de dados.\n",
    "\n",
    "Neste exemplo trata-se de um conjunto de dados fictício sobre as marcas de uma amostra de 1140 carros da cidade A."
   ]
  },
  {
   "cell_type": "code",
   "execution_count": 75,
   "id": "a36a8b89",
   "metadata": {},
   "outputs": [
    {
     "data": {
      "text/html": [
       "<div>\n",
       "<style scoped>\n",
       "    .dataframe tbody tr th:only-of-type {\n",
       "        vertical-align: middle;\n",
       "    }\n",
       "\n",
       "    .dataframe tbody tr th {\n",
       "        vertical-align: top;\n",
       "    }\n",
       "\n",
       "    .dataframe thead th {\n",
       "        text-align: right;\n",
       "    }\n",
       "</style>\n",
       "<table border=\"1\" class=\"dataframe\">\n",
       "  <thead>\n",
       "    <tr style=\"text-align: right;\">\n",
       "      <th></th>\n",
       "      <th>Montadora</th>\n",
       "      <th>País</th>\n",
       "    </tr>\n",
       "  </thead>\n",
       "  <tbody>\n",
       "    <tr>\n",
       "      <th>0</th>\n",
       "      <td>Honda</td>\n",
       "      <td>Japão</td>\n",
       "    </tr>\n",
       "    <tr>\n",
       "      <th>1</th>\n",
       "      <td>Honda</td>\n",
       "      <td>Japão</td>\n",
       "    </tr>\n",
       "    <tr>\n",
       "      <th>2</th>\n",
       "      <td>Ford</td>\n",
       "      <td>EUA</td>\n",
       "    </tr>\n",
       "    <tr>\n",
       "      <th>3</th>\n",
       "      <td>Toyota</td>\n",
       "      <td>Japão</td>\n",
       "    </tr>\n",
       "    <tr>\n",
       "      <th>4</th>\n",
       "      <td>Volkswagen</td>\n",
       "      <td>Alemanha</td>\n",
       "    </tr>\n",
       "    <tr>\n",
       "      <th>...</th>\n",
       "      <td>...</td>\n",
       "      <td>...</td>\n",
       "    </tr>\n",
       "    <tr>\n",
       "      <th>1135</th>\n",
       "      <td>Toyota</td>\n",
       "      <td>Japão</td>\n",
       "    </tr>\n",
       "    <tr>\n",
       "      <th>1136</th>\n",
       "      <td>Toyota</td>\n",
       "      <td>Japão</td>\n",
       "    </tr>\n",
       "    <tr>\n",
       "      <th>1137</th>\n",
       "      <td>BMW</td>\n",
       "      <td>Alemanha</td>\n",
       "    </tr>\n",
       "    <tr>\n",
       "      <th>1138</th>\n",
       "      <td>Toyota</td>\n",
       "      <td>Japão</td>\n",
       "    </tr>\n",
       "    <tr>\n",
       "      <th>1139</th>\n",
       "      <td>Renault</td>\n",
       "      <td>França</td>\n",
       "    </tr>\n",
       "  </tbody>\n",
       "</table>\n",
       "<p>1140 rows × 2 columns</p>\n",
       "</div>"
      ],
      "text/plain": [
       "       Montadora      País\n",
       "0          Honda     Japão\n",
       "1          Honda     Japão\n",
       "2           Ford       EUA\n",
       "3         Toyota     Japão\n",
       "4     Volkswagen  Alemanha\n",
       "...          ...       ...\n",
       "1135      Toyota     Japão\n",
       "1136      Toyota     Japão\n",
       "1137         BMW  Alemanha\n",
       "1138      Toyota     Japão\n",
       "1139     Renault    França\n",
       "\n",
       "[1140 rows x 2 columns]"
      ]
     },
     "metadata": {},
     "output_type": "display_data"
    }
   ],
   "source": [
    "cars = pd.read_csv('datasets/veiculos.csv')\n",
    "display(cars)"
   ]
  },
  {
   "attachments": {},
   "cell_type": "markdown",
   "id": "54026141",
   "metadata": {},
   "source": [
    "A melhor forma de obter informações desse conjunto de dados é contruir diretamente a tabela de dados, porém com os dados ainda na forma bruta podemos obter a marca ou marcas de maior ocorrência a partir da moda."
   ]
  },
  {
   "cell_type": "code",
   "execution_count": 76,
   "id": "c4c9d8d3",
   "metadata": {},
   "outputs": [
    {
     "name": "stdout",
     "output_type": "stream",
     "text": [
      "Montadora com maior ocorrência: Chevrolet - 167 carros.\n"
     ]
    }
   ],
   "source": [
    "manufacturer = mode(cars['Montadora'])\n",
    "cars_number = cars['Montadora'].value_counts()[manufacturer]\n",
    "print(f'Montadora com maior ocorrência: {manufacturer} - {cars_number} carros.')"
   ]
  },
  {
   "attachments": {},
   "cell_type": "markdown",
   "id": "f305b37b",
   "metadata": {},
   "source": [
    "Vemos que para esse conjunto de dados a marca Chevrolet é a que tem maior ocorrência em todo o conjunto."
   ]
  },
  {
   "attachments": {},
   "cell_type": "markdown",
   "id": "ace79c93",
   "metadata": {},
   "source": [
    "Para construir a tabela de distribuição de frequência precisamos compreender a classificação da nossa variável, recomenda-se a leitura do _notebook_ sobre classificação de variáveis <link>. A variável do exemplo dado, sobre as marcas de uma amostra de 1140 carros da cidade A, é uma variável do tipo qualitativa nominal."
   ]
  },
  {
   "attachments": {},
   "cell_type": "markdown",
   "id": "032ce0c8",
   "metadata": {},
   "source": [
    "Por se tratar de uma varável qualitativa não calcularemos o número de classes e a amplitude total, pois utilizaremos as marcas como classes. Cabe destacar que poderiamos agrupar os dados a partir de outras informações, por exemplo, pais de origem, continente de origem e etc."
   ]
  },
  {
   "cell_type": "code",
   "execution_count": 77,
   "id": "f87c4fb6",
   "metadata": {},
   "outputs": [
    {
     "data": {
      "text/plain": [
       "array(['Honda', 'Ford', 'Toyota', 'Volkswagen', 'Nissan', 'Fiat', 'Jeep',\n",
       "       'Chevrolet', 'Volvo', 'BMW', 'Chery', 'JAC', 'Hyundai',\n",
       "       'Mercedes-Benz', 'Renault', 'Kia', 'Citroen', 'Peugeot'],\n",
       "      dtype=object)"
      ]
     },
     "execution_count": 77,
     "metadata": {},
     "output_type": "execute_result"
    }
   ],
   "source": [
    "manufacturers_brands = cars['Montadora'].unique()\n",
    "manufacturers_brands"
   ]
  },
  {
   "cell_type": "code",
   "execution_count": 78,
   "id": "5f858680",
   "metadata": {},
   "outputs": [
    {
     "data": {
      "text/plain": [
       "array(['BMW', 'Chery', 'Chevrolet', 'Citroen', 'Fiat', 'Ford', 'Honda',\n",
       "       'Hyundai', 'JAC', 'Jeep', 'Kia', 'Mercedes-Benz', 'Nissan',\n",
       "       'Peugeot', 'Renault', 'Toyota', 'Volkswagen', 'Volvo'],\n",
       "      dtype=object)"
      ]
     },
     "execution_count": 78,
     "metadata": {},
     "output_type": "execute_result"
    }
   ],
   "source": [
    "manufacturers_brands.sort()\n",
    "manufacturers_brands"
   ]
  },
  {
   "cell_type": "code",
   "execution_count": 79,
   "id": "bfe6e204",
   "metadata": {},
   "outputs": [],
   "source": [
    "#fi: absolute frequency\n",
    "fi_cars = {}\n",
    "for value in manufacturers_brands:\n",
    "    frequency = 0\n",
    "    for car in cars['Montadora']:\n",
    "        if car == value:\n",
    "            frequency += 1\n",
    "    fi_cars[value] = frequency"
   ]
  },
  {
   "cell_type": "code",
   "execution_count": 80,
   "id": "c01a0b61",
   "metadata": {},
   "outputs": [],
   "source": [
    "index_cars = list(fi_cars.keys())"
   ]
  },
  {
   "cell_type": "code",
   "execution_count": 81,
   "id": "478966e4",
   "metadata": {},
   "outputs": [],
   "source": [
    "data_cars = list(fi_cars.values())"
   ]
  },
  {
   "cell_type": "code",
   "execution_count": 82,
   "id": "fb2a3ae5",
   "metadata": {},
   "outputs": [],
   "source": [
    "fi_relative = []\n",
    "for value in data_cars:\n",
    "    element = np.around((value / sum(data_cars)), 2)\n",
    "    element = element * 100\n",
    "    fi_relative.append(element)"
   ]
  },
  {
   "attachments": {},
   "cell_type": "markdown",
   "id": "47a5ced8",
   "metadata": {},
   "source": [
    "Como se trata de uma variável qualitativa nominal, as informações sobre as frequências acumuladas não trarão informações relevantes para a análise, por isso não serão calculadas e não serão inseridas na tabela de frequência."
   ]
  },
  {
   "cell_type": "code",
   "execution_count": 83,
   "id": "2938699c",
   "metadata": {},
   "outputs": [],
   "source": [
    "frequency_distribution = pd.DataFrame(index=index_cars, data=data_cars, columns=['Fi'])\n",
    "frequency_distribution['Fi (%)'] = fi_relative"
   ]
  },
  {
   "cell_type": "code",
   "execution_count": 84,
   "id": "880572fa",
   "metadata": {},
   "outputs": [
    {
     "data": {
      "text/html": [
       "<div>\n",
       "<style scoped>\n",
       "    .dataframe tbody tr th:only-of-type {\n",
       "        vertical-align: middle;\n",
       "    }\n",
       "\n",
       "    .dataframe tbody tr th {\n",
       "        vertical-align: top;\n",
       "    }\n",
       "\n",
       "    .dataframe thead th {\n",
       "        text-align: right;\n",
       "    }\n",
       "</style>\n",
       "<table border=\"1\" class=\"dataframe\">\n",
       "  <thead>\n",
       "    <tr style=\"text-align: right;\">\n",
       "      <th></th>\n",
       "      <th>Fi</th>\n",
       "      <th>Fi (%)</th>\n",
       "    </tr>\n",
       "  </thead>\n",
       "  <tbody>\n",
       "    <tr>\n",
       "      <th>BMW</th>\n",
       "      <td>24</td>\n",
       "      <td>2.0</td>\n",
       "    </tr>\n",
       "    <tr>\n",
       "      <th>Chery</th>\n",
       "      <td>6</td>\n",
       "      <td>1.0</td>\n",
       "    </tr>\n",
       "    <tr>\n",
       "      <th>Chevrolet</th>\n",
       "      <td>167</td>\n",
       "      <td>15.0</td>\n",
       "    </tr>\n",
       "    <tr>\n",
       "      <th>Citroen</th>\n",
       "      <td>26</td>\n",
       "      <td>2.0</td>\n",
       "    </tr>\n",
       "    <tr>\n",
       "      <th>Fiat</th>\n",
       "      <td>111</td>\n",
       "      <td>10.0</td>\n",
       "    </tr>\n",
       "    <tr>\n",
       "      <th>Ford</th>\n",
       "      <td>67</td>\n",
       "      <td>6.0</td>\n",
       "    </tr>\n",
       "    <tr>\n",
       "      <th>Honda</th>\n",
       "      <td>100</td>\n",
       "      <td>9.0</td>\n",
       "    </tr>\n",
       "    <tr>\n",
       "      <th>Hyundai</th>\n",
       "      <td>116</td>\n",
       "      <td>10.0</td>\n",
       "    </tr>\n",
       "    <tr>\n",
       "      <th>JAC</th>\n",
       "      <td>8</td>\n",
       "      <td>1.0</td>\n",
       "    </tr>\n",
       "    <tr>\n",
       "      <th>Jeep</th>\n",
       "      <td>42</td>\n",
       "      <td>4.0</td>\n",
       "    </tr>\n",
       "    <tr>\n",
       "      <th>Kia</th>\n",
       "      <td>54</td>\n",
       "      <td>5.0</td>\n",
       "    </tr>\n",
       "    <tr>\n",
       "      <th>Mercedes-Benz</th>\n",
       "      <td>21</td>\n",
       "      <td>2.0</td>\n",
       "    </tr>\n",
       "    <tr>\n",
       "      <th>Nissan</th>\n",
       "      <td>56</td>\n",
       "      <td>5.0</td>\n",
       "    </tr>\n",
       "    <tr>\n",
       "      <th>Peugeot</th>\n",
       "      <td>38</td>\n",
       "      <td>3.0</td>\n",
       "    </tr>\n",
       "    <tr>\n",
       "      <th>Renault</th>\n",
       "      <td>74</td>\n",
       "      <td>6.0</td>\n",
       "    </tr>\n",
       "    <tr>\n",
       "      <th>Toyota</th>\n",
       "      <td>111</td>\n",
       "      <td>10.0</td>\n",
       "    </tr>\n",
       "    <tr>\n",
       "      <th>Volkswagen</th>\n",
       "      <td>97</td>\n",
       "      <td>9.0</td>\n",
       "    </tr>\n",
       "    <tr>\n",
       "      <th>Volvo</th>\n",
       "      <td>22</td>\n",
       "      <td>2.0</td>\n",
       "    </tr>\n",
       "  </tbody>\n",
       "</table>\n",
       "</div>"
      ],
      "text/plain": [
       "                Fi  Fi (%)\n",
       "BMW             24     2.0\n",
       "Chery            6     1.0\n",
       "Chevrolet      167    15.0\n",
       "Citroen         26     2.0\n",
       "Fiat           111    10.0\n",
       "Ford            67     6.0\n",
       "Honda          100     9.0\n",
       "Hyundai        116    10.0\n",
       "JAC              8     1.0\n",
       "Jeep            42     4.0\n",
       "Kia             54     5.0\n",
       "Mercedes-Benz   21     2.0\n",
       "Nissan          56     5.0\n",
       "Peugeot         38     3.0\n",
       "Renault         74     6.0\n",
       "Toyota         111    10.0\n",
       "Volkswagen      97     9.0\n",
       "Volvo           22     2.0"
      ]
     },
     "execution_count": 84,
     "metadata": {},
     "output_type": "execute_result"
    }
   ],
   "source": [
    "frequency_distribution"
   ]
  },
  {
   "attachments": {},
   "cell_type": "markdown",
   "id": "eb8a2e75",
   "metadata": {},
   "source": [
    "Criar um gráfico em barras com as informações da tabela."
   ]
  },
  {
   "cell_type": "code",
   "execution_count": 86,
   "id": "b38b9efe",
   "metadata": {},
   "outputs": [
    {
     "data": {
      "image/png": "[encoded data removed]",
      "text/plain": [
       "<Figure size 2000x1000 with 1 Axes>"
      ]
     },
     "metadata": {},
     "output_type": "display_data"
    }
   ],
   "source": [
    "plt.figure(figsize=(20,10))\n",
    "plt.bar(frequency_distribution.index, frequency_distribution['Fi'])\n",
    "plt.title('Marcas de uma amostra fictícia de 1140 carros da cidade A', fontsize=25)\n",
    "plt.ylabel('Nº de carros', fontsize=12)\n",
    "plt.xlabel('Marcas', fontsize=12)\n",
    "plt.yticks(fontsize=12)\n",
    "plt.xticks(fontsize=12)\n",
    "plt.show()"
   ]
  },
  {
   "attachments": {},
   "cell_type": "markdown",
   "id": "3322b1b1",
   "metadata": {},
   "source": [
    "Podemos visualizar a confirmação do valor da moda onde a marca Chevrolet é a que possui mais ocorrência no conjunto de dados. Alem disso, vemos que as 05 marcas com maior ocorrência no conjunto de dados são: "
   ]
  },
  {
   "cell_type": "code",
   "execution_count": 87,
   "id": "0b23dd51",
   "metadata": {},
   "outputs": [
    {
     "data": {
      "text/plain": [
       "Chevrolet    167\n",
       "Hyundai      116\n",
       "Fiat         111\n",
       "Toyota       111\n",
       "Honda        100\n",
       "Name: Fi, dtype: int64"
      ]
     },
     "execution_count": 87,
     "metadata": {},
     "output_type": "execute_result"
    }
   ],
   "source": [
    "frequency_distribution['Fi'].sort_values(ascending=False).head(5)"
   ]
  },
  {
   "cell_type": "code",
   "execution_count": 88,
   "id": "10234a57",
   "metadata": {},
   "outputs": [
    {
     "data": {
      "text/plain": [
       "Chery             6\n",
       "JAC               8\n",
       "Mercedes-Benz    21\n",
       "Volvo            22\n",
       "BMW              24\n",
       "Name: Fi, dtype: int64"
      ]
     },
     "execution_count": 88,
     "metadata": {},
     "output_type": "execute_result"
    }
   ],
   "source": [
    "frequency_distribution['Fi'].sort_values().head(5)"
   ]
  },
  {
   "attachments": {},
   "cell_type": "markdown",
   "id": "c0893d97",
   "metadata": {},
   "source": [
    "Através da tabela podemos obter mais informações, por exemplo:\n",
    "\n",
    "Quais marcas aparecem no conjunto de dados mais de 75 vezes."
   ]
  },
  {
   "cell_type": "code",
   "execution_count": 90,
   "id": "e57f079a",
   "metadata": {},
   "outputs": [
    {
     "data": {
      "text/plain": [
       "Chevrolet     167\n",
       "Hyundai       116\n",
       "Fiat          111\n",
       "Toyota        111\n",
       "Honda         100\n",
       "Volkswagen     97\n",
       "Name: Fi, dtype: int64"
      ]
     },
     "execution_count": 90,
     "metadata": {},
     "output_type": "execute_result"
    }
   ],
   "source": [
    "frequency_distribution['Fi'][frequency_distribution['Fi'] > 75].sort_values(ascending=False)"
   ]
  },
  {
   "attachments": {},
   "cell_type": "markdown",
   "id": "1a5105aa",
   "metadata": {},
   "source": [
    "Quais marcas aparecem no conjunto de dados menos de 20 vezes"
   ]
  },
  {
   "cell_type": "code",
   "execution_count": 91,
   "id": "4288ca47",
   "metadata": {},
   "outputs": [
    {
     "data": {
      "text/plain": [
       "JAC      8\n",
       "Chery    6\n",
       "Name: Fi, dtype: int64"
      ]
     },
     "execution_count": 91,
     "metadata": {},
     "output_type": "execute_result"
    }
   ],
   "source": [
    "frequency_distribution['Fi'][frequency_distribution['Fi'] < 20].sort_values(ascending=False)"
   ]
  },
  {
   "attachments": {},
   "cell_type": "markdown",
   "id": "8e5192fe",
   "metadata": {},
   "source": [
    "Quantas e quais marcas tem participação maior ou igual a 10% no conjunto de dados."
   ]
  },
  {
   "cell_type": "code",
   "execution_count": 92,
   "id": "e572b0c4",
   "metadata": {},
   "outputs": [
    {
     "data": {
      "text/plain": [
       "Chevrolet    15.0\n",
       "Fiat         10.0\n",
       "Hyundai      10.0\n",
       "Toyota       10.0\n",
       "Name: Fi (%), dtype: float64"
      ]
     },
     "execution_count": 92,
     "metadata": {},
     "output_type": "execute_result"
    }
   ],
   "source": [
    "frequency_distribution['Fi (%)'][frequency_distribution['Fi (%)'] >= 10].sort_values(ascending=False)"
   ]
  },
  {
   "attachments": {},
   "cell_type": "markdown",
   "id": "2b472409",
   "metadata": {},
   "source": [
    "## Referências:\n",
    "\n",
    "BUSSAB, Wilton de O.; MORETTIN, Pedro A. Estatística Básica. 5ª edição. São Paulo: Editora Saraiva, 2004."
   ]
  }
 ],
 "metadata": {
  "kernelspec": {
   "display_name": "Python 3 (ipykernel)",
   "language": "python",
   "name": "python3"
  },
  "language_info": {
   "codemirror_mode": {
    "name": "ipython",
    "version": 3
   },
   "file_extension": ".py",
   "mimetype": "text/x-python",
   "name": "python",
   "nbconvert_exporter": "python",
   "pygments_lexer": "ipython3",
   "version": "3.10.6"
  }
 },
 "nbformat": 4,
 "nbformat_minor": 5
}
