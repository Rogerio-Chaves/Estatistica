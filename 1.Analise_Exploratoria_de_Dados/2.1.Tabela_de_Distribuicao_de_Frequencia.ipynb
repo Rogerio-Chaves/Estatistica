{
 "cells": [
  {
   "cell_type": "markdown",
   "id": "5b8b35d2",
   "metadata": {},
   "source": [
    "# Tabela de Distribuição de Frequência\n",
    "\n",
    "\n",
    "Creation on August 7 2021.\n",
    "\n",
    "Last modification on August 10 2021.\n",
    "\n",
    "@author: Rogerio Chaves\n",
    "\n",
    "E-mail: chaves.rogerio@outlook.com\n",
    "\n",
    "github: "
   ]
  },
  {
   "cell_type": "markdown",
   "id": "9425fec3",
   "metadata": {},
   "source": [
    "__O que é uma Tabela de Distribuição de Frequência?__\n",
    "\n",
    "Uma tabela de distribuição de frequência tem por objetivo organizar o conjunto de dados sobre uma variável em uma grupos (que será chamado de classes), onde a partir de suas frquências pode-se de obter algumas informações, de outra forma, \"[...] conhecer o _comportamento_ dessa variável, analisando a ocorrência de suas possíveis realizações.\"(BUSSAB e MORETTIN, 2004)"
   ]
  },
  {
   "cell_type": "markdown",
   "id": "2af2d995",
   "metadata": {},
   "source": [
    "Importar as bibliotecas"
   ]
  },
  {
   "cell_type": "code",
   "execution_count": 1,
   "id": "5edc76d3",
   "metadata": {},
   "outputs": [],
   "source": [
    "import numpy as np\n",
    "import pandas as pd\n",
    "from math import sqrt,ceil\n",
    "from statistics import mean, median, mode, pstdev\n",
    "import matplotlib.pyplot as plt\n",
    "import matplotlib.style as style"
   ]
  },
  {
   "cell_type": "code",
   "execution_count": 2,
   "id": "c49f5338",
   "metadata": {},
   "outputs": [],
   "source": [
    "style.use('seaborn')"
   ]
  },
  {
   "cell_type": "markdown",
   "id": "b6d2f83a",
   "metadata": {},
   "source": [
    "## Variável qualitativa nominal\n",
    "\n",
    "Definir o conjunto de dados.\n",
    "\n",
    "Neste exemplo trata-se de um conjunto de dados fictício sobre as marcas de uma amostra de 535 carros da cidade A."
   ]
  },
  {
   "cell_type": "code",
   "execution_count": 3,
   "id": "a36a8b89",
   "metadata": {},
   "outputs": [],
   "source": [
    "cars = ['Honda', 'Honda', 'Ford', 'Toyota', 'Volkswagen', 'Ford', 'Toyota', 'Nissan', 'Fiat', 'Ford', 'Fiat', \n",
    "        'Fiat', 'Jeep', 'Honda', 'Toyota', 'Chevrolet', 'Chevrolet', 'Volkswagen', 'Volvo', 'Volkswagen',\n",
    "        'Chevrolet', 'BMW', 'Fiat', 'Chevrolet', 'Volkswagen', 'Toyota', 'Jeep', 'Nissan', 'Nissan', 'Volvo',\n",
    "        'Fiat', 'Jeep', 'Honda', 'Toyota', 'Chevrolet', 'Chevrolet', 'Volkswagen', 'Volvo', 'BMW', 'Chevrolet',\n",
    "        'Honda', 'Honda', 'Ford', 'Toyota', 'Volkswagen', 'Chery', 'JAC', 'Toyota', 'Nissan', 'Fiat', 'Jeep', \n",
    "        'Hyundai', 'Hyundai', 'Hyundai', 'Mercedes', 'BMW', 'Mercedes', 'Volkswagen', 'Chevrolet', 'Toyota', \n",
    "        'Ford', 'Honda', 'Renault', 'Renault', 'Chevrolet', 'Volkswagen', 'Renault', 'Chery', 'Chery', 'Kia',\n",
    "        'Citroen', 'Citroen', 'Peugeot', 'Peugeot', 'Citroen', 'Honda', 'Ford', 'Fiat', 'Chevrolet', 'Nissan', \n",
    "        'Fiat', 'Jeep', 'Jeep', 'Volkswagen', 'Chevrolet', 'Volkswagen', 'Toyota', 'JAC', 'Toyota', 'Fiat', \n",
    "        'Chevrolet', 'Citroen', 'Volkswagen', 'Peugeot', 'Renault', 'Jeep', 'Honda', 'Mercedes', 'Toyota', \n",
    "        'Fiat', 'Fiat', 'Chevrolet', 'BMW', 'Chevrolet', 'Nissan', 'Chevrolet', 'Toyota', 'Nissan', 'JAC', \n",
    "        'Honda', 'Renault', 'Renault', 'Hyundai', 'Hyundai', 'Hyundai', 'Ford', 'Honda', 'Honda', 'Ford',\n",
    "        'Toyota', 'Volkswagen', 'Ford', 'Toyota', 'Nissan', 'Fiat', 'Ford', 'Fiat', 'Fiat', 'Jeep', 'Honda', \n",
    "        'Toyota', 'Chevrolet', 'Chevrolet', 'Volkswagen', 'Volvo', 'Volkswagen', 'Chevrolet', 'BMW', 'Fiat', \n",
    "        'Chevrolet', 'Volkswagen', 'Toyota', 'Jeep', 'Nissan', 'Nissan', 'Volvo', 'Fiat', 'Jeep', 'Honda', \n",
    "        'Toyota', 'Chevrolet', 'Chevrolet', 'Volkswagen', 'Volvo', 'BMW', 'Chevrolet', 'Honda', 'Honda', 'Kia',\n",
    "        'Ford', 'Toyota', 'Volkswagen', 'Honda', 'Volkswagen', 'Volkswagen', 'Chevrolet', 'Jeep', 'BMW', 'Kia',\n",
    "        'Fiat', 'Nissan', 'Volvo', 'Toyota', 'Citroen', 'Citroen', 'Peugeot', 'Peugeot', 'Citroen', 'Honda', \n",
    "        'Ford', 'Fiat', 'Chevrolet', 'Nissan', 'Fiat', 'Jeep', 'Jeep', 'Volkswagen', 'Chevrolet', 'Volkswagen', \n",
    "        'Toyota', 'JAC', 'Toyota', 'Fiat', 'Chevrolet', 'Citroen', 'Volkswagen', 'Peugeot', 'Renault', 'Jeep', \n",
    "        'Honda', 'Mercedes', 'Toyota', 'Fiat', 'Fiat', 'Chevrolet', 'BMW', 'Chevrolet', 'Nissan', 'Jeep', \n",
    "        'Peugeot', 'Renault', 'Renault', 'Peugeot', 'Renault', 'Peugeot', 'Honda', 'Toyota', 'Renault', 'Kia',\n",
    "        'Hyundai', 'Hyundai', 'Kia', 'Kia', 'Fiat', 'Volkswagen', 'Hyundai', 'Hyundai', 'Hyundai', 'Chevrolet', \n",
    "        'Renault', 'Peugeot', 'Renault', 'Nissan', 'Kia', 'Honda', 'Kia', 'Hyundai', 'Chevrolet', 'Chevrolet', \n",
    "        'Fiat', 'Fiat', 'Toyota', 'Kia', 'Hyundai', 'Jeep', 'Ford', 'Ford', 'Hyundai', 'Nissan', 'Renault', \n",
    "        'Hyundai', 'Peugeot', 'Hyundai', 'Kia', 'Chevrolet', 'Toyota', 'Renault', 'Hyundai', 'Ford', 'Ford', \n",
    "        'Hyundai', 'Fiat', 'Volkswagen', 'Renault', 'Hyundai', 'Chevrolet', 'Fiat', 'Ford', 'Toyota', 'Toyota', \n",
    "        'Ford', 'Chevrolet', 'Kia', 'Nissan', 'Chevrolet', 'Chevrolet', 'Hyundai', 'Hyundai', 'Ford', 'Fiat', \n",
    "        'Volkswagen', 'Hyundai', 'Kia', 'Nissan', 'Renault', 'Renault', 'Chevrolet', 'Fiat', 'Hyundai', 'Fiat', \n",
    "        'Ford', 'Honda', 'Honda', 'Hyundai', 'Chevrolet', 'Chevrolet', 'Hyundai', 'Hyundai', 'Mercedes', \n",
    "        'Chevrolet', 'Toyota', 'Toyota', 'Hyundai', 'Hyundai', 'Chevrolet', 'Volkswagen', 'Ford', 'Fiat', \n",
    "        'Kia', 'Renault', 'Chevrolet', 'Hyundai', 'Volvo', 'Citroen', 'Peugeot', 'Toyota', 'Chevrolet', 'Kia', \n",
    "        'Ford', 'Fiat', 'Renault', 'Volvo', 'Citroen', 'Jeep', 'Nissan', 'Nissan', 'Hyundai', 'Volkswagen', \n",
    "        'Chevrolet', 'Fiat', 'Fiat', 'Chevrolet', 'Volkswagen', 'Hyundai', 'Toyota', 'Honda', 'Hyundai', \n",
    "        'Honda', 'Mercedes', 'Toyota', 'Fiat', 'Fiat', 'Chevrolet', 'BMW', 'Chevrolet', 'Nissan', 'Jeep', \n",
    "        'Volkswagen','Peugeot', 'Renault', 'Renault', 'Peugeot', 'Renault', 'Peugeot', 'Honda', 'Toyota', \n",
    "        'Renault', 'Kia', 'Hyundai', 'Hyundai', 'Kia', 'Kia', 'Fiat', 'Volkswagen', 'Hyundai', 'Hyundai', \n",
    "        'Hyundai', 'Chevrolet', 'Renault', 'Peugeot', 'Renault', 'Nissan', 'Kia', 'Honda', 'Kia', 'Hyundai', \n",
    "        'Chevrolet', 'Chevrolet', 'Fiat', 'Fiat', 'Toyota', 'Kia', 'Hyundai', 'Jeep', 'Ford', 'Ford', 'Jeep',\n",
    "        'Hyundai', 'Nissan', 'Renault', 'Hyundai', 'Peugeot', 'Hyundai', 'Kia', 'Chevrolet', 'Toyota', 'Ford',\n",
    "        'Renault', 'Hyundai', 'Ford', 'Ford', 'Hyundai', 'Fiat', 'Volkswagen', 'Renault', 'Hyundai', 'Honda',\n",
    "        'Chevrolet', 'Fiat', 'Ford', 'Toyota', 'Toyota', 'Ford', 'Chevrolet', 'Kia', 'Nissan', 'Chevrolet', \n",
    "        'Chevrolet', 'Hyundai', 'Hyundai', 'Ford', 'Fiat', 'Volkswagen', 'Hyundai', 'Kia', 'Nissan', 'Renault', \n",
    "        'Renault', 'Chevrolet', 'Fiat', 'Hyundai', 'Fiat', 'Ford', 'Honda', 'Honda', 'Hyundai', 'Chevrolet', \n",
    "        'Chevrolet', 'Hyundai', 'Hyundai', 'Mercedes', 'Chevrolet', 'Toyota', 'Toyota', 'Hyundai', 'Hyundai', \n",
    "        'Chevrolet', 'Volkswagen', 'Ford', 'Fiat', 'Kia', 'Renault', 'Chevrolet', 'Hyundai', 'Volvo', 'Kia',\n",
    "        'Citroen', 'Peugeot', 'Toyota', 'Chevrolet', 'Kia', 'Ford', 'Fiat', 'Renault', 'Volvo', 'Citroen', \n",
    "        'Jeep', 'Nissan', 'Nissan', 'Hyundai', 'Volkswagen', 'Chevrolet', 'Fiat', 'Fiat', 'Chevrolet', 'Toyota',\n",
    "        'Volkswagen', 'Hyundai', 'Toyota', 'Honda', 'Hyundai', 'Honda', 'Renault', 'Honda', 'Volkswagen', \n",
    "        'Citroen', 'Toyota', 'Toyota', 'Volkswagen', 'Volkswagen', 'Honda', 'BMW', 'Peugeot', 'Ford', 'Fiat', \n",
    "        'Volkswagen', 'Toyota', 'Honda', 'Kia', 'Honda', 'Toyota', 'Volkswagen', 'Honda', 'Chevrolet', \n",
    "        'Toyota', 'Chevrolet', 'Honda', 'Volkswagen', 'Volkswagen', 'Nissan', 'Chevrolet', 'Fiat', 'Chevrolet', \n",
    "        'Honda', 'Toyota', 'Volkswagen', 'Chevrolet', 'Chevrolet', 'Honda', 'Toyota', 'Chevrolet', 'Chevrolet', \n",
    "        'Toyota', 'Fiat', 'Volkswagen', 'Toyota', 'Renault', 'Volkswagen', 'Toyota', 'Fiat', 'Honda', 'Honda', \n",
    "        'Volkswagen', 'Mercedes', 'Nissan']"
   ]
  },
  {
   "cell_type": "markdown",
   "id": "54026141",
   "metadata": {},
   "source": [
    "A melhor forma de obter informações desse conjunto de dados é contruir diretamente a tabela de dados, porém com os dados ainda na forma bruta podemos obter a marca ou marcas de maior ocorrência a partir da moda."
   ]
  },
  {
   "cell_type": "code",
   "execution_count": 4,
   "id": "c4c9d8d3",
   "metadata": {},
   "outputs": [
    {
     "data": {
      "text/plain": [
       "'Chevrolet'"
      ]
     },
     "execution_count": 4,
     "metadata": {},
     "output_type": "execute_result"
    }
   ],
   "source": [
    "mode(cars)"
   ]
  },
  {
   "cell_type": "markdown",
   "id": "f305b37b",
   "metadata": {},
   "source": [
    "Vemos que para esse conjunto de dados a marca Chevrolet é a que tem maior ocorrência em todo o conjunto."
   ]
  },
  {
   "cell_type": "markdown",
   "id": "ace79c93",
   "metadata": {},
   "source": [
    "Para construir a tabela de distribuição de frequência precisamos compreender a classificação da nossa variável, recomenda-se a leitura do _notebook_ sobre classificação de variáveis <link>. A variável do exemplo dado, sobre as marcas de uma amostra de 25 carros da Empresa A é uma vaíavel do tipo qualitativa nominal."
   ]
  },
  {
   "cell_type": "markdown",
   "id": "032ce0c8",
   "metadata": {},
   "source": [
    "Por se tratar de uma varável qualitativa não calcularemos o número de classes e a amplitude total, pois as classes serão as marcas."
   ]
  },
  {
   "cell_type": "code",
   "execution_count": 5,
   "id": "ff359b6b",
   "metadata": {},
   "outputs": [],
   "source": [
    "brands = list(pd.DataFrame(cars).groupby(by=0).count()[:].reset_index()[0])"
   ]
  },
  {
   "cell_type": "code",
   "execution_count": 6,
   "id": "5f858680",
   "metadata": {},
   "outputs": [],
   "source": [
    "brands.sort()"
   ]
  },
  {
   "cell_type": "code",
   "execution_count": 7,
   "id": "bfe6e204",
   "metadata": {},
   "outputs": [],
   "source": [
    "#fi: absolute frequency\n",
    "fi_cars = {}\n",
    "for value in brands:\n",
    "    frequency = 0\n",
    "    for car in cars:\n",
    "        if car == value:\n",
    "            frequency += 1\n",
    "    fi_cars[value] = frequency"
   ]
  },
  {
   "cell_type": "code",
   "execution_count": 8,
   "id": "c01a0b61",
   "metadata": {},
   "outputs": [],
   "source": [
    "index_cars = list(fi_cars.keys())"
   ]
  },
  {
   "cell_type": "code",
   "execution_count": 9,
   "id": "478966e4",
   "metadata": {},
   "outputs": [],
   "source": [
    "data_cars = list(fi_cars.values())"
   ]
  },
  {
   "cell_type": "code",
   "execution_count": 10,
   "id": "fb2a3ae5",
   "metadata": {},
   "outputs": [],
   "source": [
    "fi_relative = []\n",
    "for value in data_cars:\n",
    "    element = np.around((value / sum(data_cars)), 2)\n",
    "    element = element * 100\n",
    "    fi_relative.append(element)"
   ]
  },
  {
   "cell_type": "markdown",
   "id": "47a5ced8",
   "metadata": {},
   "source": [
    "Como se trata de uma variável qualitativa nominal, as informações sobre as frequências acumuladas não trarão informações relevantes para a análise, por isso não serão calculadas e não serão inseridas na tabela de frequência."
   ]
  },
  {
   "cell_type": "code",
   "execution_count": 11,
   "id": "2938699c",
   "metadata": {},
   "outputs": [],
   "source": [
    "frequency_distribution = pd.DataFrame(index=index_cars, data=data_cars, columns=['Fi'])\n",
    "frequency_distribution['Fi (%)'] = fi_relative"
   ]
  },
  {
   "cell_type": "code",
   "execution_count": 12,
   "id": "880572fa",
   "metadata": {},
   "outputs": [
    {
     "data": {
      "text/html": [
       "<div>\n",
       "<style scoped>\n",
       "    .dataframe tbody tr th:only-of-type {\n",
       "        vertical-align: middle;\n",
       "    }\n",
       "\n",
       "    .dataframe tbody tr th {\n",
       "        vertical-align: top;\n",
       "    }\n",
       "\n",
       "    .dataframe thead th {\n",
       "        text-align: right;\n",
       "    }\n",
       "</style>\n",
       "<table border=\"1\" class=\"dataframe\">\n",
       "  <thead>\n",
       "    <tr style=\"text-align: right;\">\n",
       "      <th></th>\n",
       "      <th>Fi</th>\n",
       "      <th>Fi (%)</th>\n",
       "    </tr>\n",
       "  </thead>\n",
       "  <tbody>\n",
       "    <tr>\n",
       "      <th>BMW</th>\n",
       "      <td>10</td>\n",
       "      <td>2.0</td>\n",
       "    </tr>\n",
       "    <tr>\n",
       "      <th>Chery</th>\n",
       "      <td>3</td>\n",
       "      <td>1.0</td>\n",
       "    </tr>\n",
       "    <tr>\n",
       "      <th>Chevrolet</th>\n",
       "      <td>72</td>\n",
       "      <td>13.0</td>\n",
       "    </tr>\n",
       "    <tr>\n",
       "      <th>Citroen</th>\n",
       "      <td>13</td>\n",
       "      <td>2.0</td>\n",
       "    </tr>\n",
       "    <tr>\n",
       "      <th>Fiat</th>\n",
       "      <td>52</td>\n",
       "      <td>10.0</td>\n",
       "    </tr>\n",
       "    <tr>\n",
       "      <th>Ford</th>\n",
       "      <td>34</td>\n",
       "      <td>6.0</td>\n",
       "    </tr>\n",
       "    <tr>\n",
       "      <th>Honda</th>\n",
       "      <td>42</td>\n",
       "      <td>8.0</td>\n",
       "    </tr>\n",
       "    <tr>\n",
       "      <th>Hyundai</th>\n",
       "      <td>58</td>\n",
       "      <td>11.0</td>\n",
       "    </tr>\n",
       "    <tr>\n",
       "      <th>JAC</th>\n",
       "      <td>4</td>\n",
       "      <td>1.0</td>\n",
       "    </tr>\n",
       "    <tr>\n",
       "      <th>Jeep</th>\n",
       "      <td>21</td>\n",
       "      <td>4.0</td>\n",
       "    </tr>\n",
       "    <tr>\n",
       "      <th>Kia</th>\n",
       "      <td>27</td>\n",
       "      <td>5.0</td>\n",
       "    </tr>\n",
       "    <tr>\n",
       "      <th>Mercedes</th>\n",
       "      <td>8</td>\n",
       "      <td>1.0</td>\n",
       "    </tr>\n",
       "    <tr>\n",
       "      <th>Nissan</th>\n",
       "      <td>28</td>\n",
       "      <td>5.0</td>\n",
       "    </tr>\n",
       "    <tr>\n",
       "      <th>Peugeot</th>\n",
       "      <td>19</td>\n",
       "      <td>4.0</td>\n",
       "    </tr>\n",
       "    <tr>\n",
       "      <th>Renault</th>\n",
       "      <td>35</td>\n",
       "      <td>7.0</td>\n",
       "    </tr>\n",
       "    <tr>\n",
       "      <th>Toyota</th>\n",
       "      <td>52</td>\n",
       "      <td>10.0</td>\n",
       "    </tr>\n",
       "    <tr>\n",
       "      <th>Volkswagen</th>\n",
       "      <td>46</td>\n",
       "      <td>9.0</td>\n",
       "    </tr>\n",
       "    <tr>\n",
       "      <th>Volvo</th>\n",
       "      <td>11</td>\n",
       "      <td>2.0</td>\n",
       "    </tr>\n",
       "  </tbody>\n",
       "</table>\n",
       "</div>"
      ],
      "text/plain": [
       "            Fi  Fi (%)\n",
       "BMW         10     2.0\n",
       "Chery        3     1.0\n",
       "Chevrolet   72    13.0\n",
       "Citroen     13     2.0\n",
       "Fiat        52    10.0\n",
       "Ford        34     6.0\n",
       "Honda       42     8.0\n",
       "Hyundai     58    11.0\n",
       "JAC          4     1.0\n",
       "Jeep        21     4.0\n",
       "Kia         27     5.0\n",
       "Mercedes     8     1.0\n",
       "Nissan      28     5.0\n",
       "Peugeot     19     4.0\n",
       "Renault     35     7.0\n",
       "Toyota      52    10.0\n",
       "Volkswagen  46     9.0\n",
       "Volvo       11     2.0"
      ]
     },
     "execution_count": 12,
     "metadata": {},
     "output_type": "execute_result"
    }
   ],
   "source": [
    "frequency_distribution"
   ]
  },
  {
   "cell_type": "markdown",
   "id": "eb8a2e75",
   "metadata": {},
   "source": [
    "Criar um gráfico em barras com as informações da tabela."
   ]
  },
  {
   "cell_type": "code",
   "execution_count": 13,
   "id": "b38b9efe",
   "metadata": {},
   "outputs": [
    {
     "data": {
      "text/plain": [
       "([0, 1, 2, 3, 4, 5, 6, 7, 8, 9, 10, 11, 12, 13, 14, 15, 16, 17],\n",
       " [Text(0, 0, ''),\n",
       "  Text(0, 0, ''),\n",
       "  Text(0, 0, ''),\n",
       "  Text(0, 0, ''),\n",
       "  Text(0, 0, ''),\n",
       "  Text(0, 0, ''),\n",
       "  Text(0, 0, ''),\n",
       "  Text(0, 0, ''),\n",
       "  Text(0, 0, ''),\n",
       "  Text(0, 0, ''),\n",
       "  Text(0, 0, ''),\n",
       "  Text(0, 0, ''),\n",
       "  Text(0, 0, ''),\n",
       "  Text(0, 0, ''),\n",
       "  Text(0, 0, ''),\n",
       "  Text(0, 0, ''),\n",
       "  Text(0, 0, ''),\n",
       "  Text(0, 0, '')])"
      ]
     },
     "execution_count": 13,
     "metadata": {},
     "output_type": "execute_result"
    },
    {
     "data": {
      "image/png": "[encoded data removed]",
      "text/plain": [
       "<Figure size 1440x720 with 1 Axes>"
      ]
     },
     "metadata": {},
     "output_type": "display_data"
    }
   ],
   "source": [
    "plt.figure(figsize=(20,10))\n",
    "plt.bar(frequency_distribution.index, frequency_distribution['Fi'])\n",
    "plt.title('Marcas de uma amostra fictícia de 535 carros da cidade A', fontsize=25)\n",
    "plt.ylabel('Nº de carros', fontsize=12)\n",
    "plt.xlabel('Marcas', fontsize=12)\n",
    "plt.yticks(fontsize=12)\n",
    "plt.xticks(fontsize=12)"
   ]
  },
  {
   "cell_type": "markdown",
   "id": "3322b1b1",
   "metadata": {},
   "source": [
    "Podemos visualizar a confirmação do valor da moda onde a marca Chevrolet é a que possui mais ocorrência no conjunto de dados. Alem disso, vemos que as 05 marcas com maior ocorrência no conjunto de dados são: "
   ]
  },
  {
   "cell_type": "code",
   "execution_count": 25,
   "id": "0b23dd51",
   "metadata": {},
   "outputs": [
    {
     "data": {
      "text/plain": [
       "Chevrolet     72\n",
       "Hyundai       58\n",
       "Fiat          52\n",
       "Toyota        52\n",
       "Volkswagen    46\n",
       "Name: Fi, dtype: int64"
      ]
     },
     "execution_count": 25,
     "metadata": {},
     "output_type": "execute_result"
    }
   ],
   "source": [
    "frequency_distribution['Fi'].sort_values(ascending=False).head(5)"
   ]
  },
  {
   "cell_type": "code",
   "execution_count": 26,
   "id": "10234a57",
   "metadata": {},
   "outputs": [
    {
     "data": {
      "text/plain": [
       "Chery        3\n",
       "JAC          4\n",
       "Mercedes     8\n",
       "BMW         10\n",
       "Volvo       11\n",
       "Name: Fi, dtype: int64"
      ]
     },
     "execution_count": 26,
     "metadata": {},
     "output_type": "execute_result"
    }
   ],
   "source": [
    "frequency_distribution['Fi'].sort_values().head(5)"
   ]
  },
  {
   "cell_type": "markdown",
   "id": "c0893d97",
   "metadata": {},
   "source": [
    "Através da tabela podemos obter mais informações, por exemplo:\n",
    "\n",
    "Quais marcas aparecem no conjunto de dados mais de 30 vezes."
   ]
  },
  {
   "cell_type": "code",
   "execution_count": 18,
   "id": "e57f079a",
   "metadata": {},
   "outputs": [
    {
     "data": {
      "text/plain": [
       "Chevrolet     72\n",
       "Hyundai       58\n",
       "Fiat          52\n",
       "Toyota        52\n",
       "Volkswagen    46\n",
       "Honda         42\n",
       "Renault       35\n",
       "Ford          34\n",
       "Name: Fi, dtype: int64"
      ]
     },
     "execution_count": 18,
     "metadata": {},
     "output_type": "execute_result"
    }
   ],
   "source": [
    "frequency_distribution['Fi'][frequency_distribution['Fi'] > 30].sort_values(ascending=False)"
   ]
  },
  {
   "cell_type": "markdown",
   "id": "1a5105aa",
   "metadata": {},
   "source": [
    "Quais marcas aparecem no conjunto de dados menos de 10 vezes"
   ]
  },
  {
   "cell_type": "code",
   "execution_count": 19,
   "id": "4288ca47",
   "metadata": {},
   "outputs": [
    {
     "data": {
      "text/plain": [
       "Mercedes    8\n",
       "JAC         4\n",
       "Chery       3\n",
       "Name: Fi, dtype: int64"
      ]
     },
     "execution_count": 19,
     "metadata": {},
     "output_type": "execute_result"
    }
   ],
   "source": [
    "frequency_distribution['Fi'][frequency_distribution['Fi'] < 10].sort_values(ascending=False)"
   ]
  },
  {
   "cell_type": "markdown",
   "id": "8e5192fe",
   "metadata": {},
   "source": [
    "Quantas e quais marcas tem participação maior ou igual a 10% no conjunto de dados."
   ]
  },
  {
   "cell_type": "code",
   "execution_count": 20,
   "id": "e572b0c4",
   "metadata": {},
   "outputs": [
    {
     "data": {
      "text/plain": [
       "Chevrolet    13.0\n",
       "Hyundai      11.0\n",
       "Fiat         10.0\n",
       "Toyota       10.0\n",
       "Name: Fi (%), dtype: float64"
      ]
     },
     "execution_count": 20,
     "metadata": {},
     "output_type": "execute_result"
    }
   ],
   "source": [
    "frequency_distribution['Fi (%)'][frequency_distribution['Fi (%)'] >= 10].sort_values(ascending=False)"
   ]
  },
  {
   "cell_type": "markdown",
   "id": "2b472409",
   "metadata": {},
   "source": [
    "## Referências:\n",
    "\n",
    "BUSSAB, Wilton de O.; MORETTIN, Pedro A. Estatística Básica. 5ª edição. São Paulo: Editora Saraiva, 2004."
   ]
  }
 ],
 "metadata": {
  "kernelspec": {
   "display_name": "Python 3 (ipykernel)",
   "language": "python",
   "name": "python3"
  },
  "language_info": {
   "codemirror_mode": {
    "name": "ipython",
    "version": 3
   },
   "file_extension": ".py",
   "mimetype": "text/x-python",
   "name": "python",
   "nbconvert_exporter": "python",
   "pygments_lexer": "ipython3",
   "version": "3.8.10"
  }
 },
 "nbformat": 4,
 "nbformat_minor": 5
}
