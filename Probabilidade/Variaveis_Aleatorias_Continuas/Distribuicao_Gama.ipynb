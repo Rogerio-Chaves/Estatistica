{
 "cells": [
  {
   "cell_type": "markdown",
   "id": "f50561ae",
   "metadata": {},
   "source": [
    "# Distribuição Gama\n",
    "\n",
    "Creation on October 19 2021.\n",
    "\n",
    "@author: Rogerio Chaves\n",
    "\n",
    "E-mail: chaves.rogerio@outlook.com\n",
    "\n",
    "github: "
   ]
  },
  {
   "cell_type": "markdown",
   "id": "47328973",
   "metadata": {},
   "source": [
    "__Definição:__ "
   ]
  },
  {
   "cell_type": "markdown",
   "id": "67ac9e65",
   "metadata": {},
   "source": [
    "Importar bibliotecas."
   ]
  },
  {
   "cell_type": "code",
   "execution_count": 1,
   "id": "72a8c66e",
   "metadata": {},
   "outputs": [],
   "source": [
    "import numpy as np\n",
    "from scipy.integrate import quad\n",
    "import matplotlib.pyplot as plt"
   ]
  },
  {
   "cell_type": "code",
   "execution_count": null,
   "id": "9a47ea43",
   "metadata": {},
   "outputs": [],
   "source": []
  }
 ],
 "metadata": {
  "kernelspec": {
   "display_name": "Python 3 (ipykernel)",
   "language": "python",
   "name": "python3"
  },
  "language_info": {
   "codemirror_mode": {
    "name": "ipython",
    "version": 3
   },
   "file_extension": ".py",
   "mimetype": "text/x-python",
   "name": "python",
   "nbconvert_exporter": "python",
   "pygments_lexer": "ipython3",
   "version": "3.8.10"
  }
 },
 "nbformat": 4,
 "nbformat_minor": 5
}
