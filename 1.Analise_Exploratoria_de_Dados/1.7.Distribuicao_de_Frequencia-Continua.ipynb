{
 "cells": [
  {
   "cell_type": "markdown",
   "id": "5b8b35d2",
   "metadata": {},
   "source": [
    "# 1.7.Tabela de Distribuição de Frequência\n",
    "\n",
    "\n",
    "Creation: July 2021.\n",
    "\n",
    "Last modification on September 03 2022.\n",
    "\n",
    "@author: Rogerio Chaves\n",
    "\n",
    "E-mail: chaves.rogerio@outlook.com"
   ]
  },
  {
   "cell_type": "markdown",
   "id": "9425fec3",
   "metadata": {},
   "source": [
    "__O que é uma Tabela de Distribuição de Frequência?__\n",
    "\n",
    "Uma tabela de distribuição de frequência tem por objetivo organizar o conjunto de dados sobre uma variável em uma grupos (que será chamado de classes), onde a partir de suas frquências pode-se de obter algumas informações, de outra forma, \"[...] conhecer o _comportamento_ dessa variável, analisando a ocorrência de suas possíveis realizações.\"(BUSSAB e MORETTIN, 2004)"
   ]
  },
  {
   "cell_type": "markdown",
   "id": "2af2d995",
   "metadata": {},
   "source": [
    "Importar as bibliotecas"
   ]
  },
  {
   "cell_type": "code",
   "execution_count": 1,
   "id": "5edc76d3",
   "metadata": {},
   "outputs": [],
   "source": [
    "import numpy as np\n",
    "import pandas as pd\n",
    "from math import sqrt,ceil\n",
    "from statistics import mean, median, mode, pstdev\n",
    "import matplotlib.pyplot as plt\n",
    "import matplotlib.style as style"
   ]
  },
  {
   "cell_type": "code",
   "execution_count": 2,
   "id": "c49f5338",
   "metadata": {},
   "outputs": [],
   "source": [
    "style.use('seaborn')"
   ]
  },
  {
   "cell_type": "markdown",
   "id": "ae09b03a",
   "metadata": {},
   "source": [
    "## Variável quantitativa contínua\n",
    "\n",
    "Definir o conjunto de dados.\n",
    "\n",
    "Neste exemplo trata-se de um conjunto de dados fictício sobre as notas obtidas de uma turma de 41 estudantes da disciplina de matemática no ano de 2020."
   ]
  },
  {
   "cell_type": "code",
   "execution_count": 4,
   "id": "2f822078",
   "metadata": {},
   "outputs": [],
   "source": [
    "values = [\n",
    "    10, 8, 8.5, 7, 5.5, 5.2, 6.7, 2.5, 10, 9.3, 9.2, 8.7, 7.4, 2.5, 1, 0, 0, 7.5, 8, 9, 2, 1, 7.8, \n",
    "    8.8, 10, 10, 9.5, 6.5, 5.5, 5, 7.2, 5, 5.2, 3, 2, 2.5, 4.8, 10, 10, 9.5, 9.8\n",
    "]"
   ]
  },
  {
   "cell_type": "markdown",
   "id": "f79293da",
   "metadata": {},
   "source": [
    "Antes da construção da tabela de distribuição de frequência, ainda com os dados brutos, podemos obter algumas informações sobre o conjunto de dados."
   ]
  },
  {
   "cell_type": "markdown",
   "id": "e7f0f987",
   "metadata": {},
   "source": [
    "Tornar em ordem crescente o conjunto de dados brutos."
   ]
  },
  {
   "cell_type": "code",
   "execution_count": 5,
   "id": "23208ff0",
   "metadata": {},
   "outputs": [],
   "source": [
    "values.sort()"
   ]
  },
  {
   "cell_type": "markdown",
   "id": "aa99d3a9",
   "metadata": {},
   "source": [
    "Obter a média, a mediana e a moda dos dados.\n",
    "\n",
    "__Média:__ é uma medida que busca resumir, considerando todos os valores do conjunto de dados, em um valor central.\n",
    "\n",
    "__Mediana:__ é a medida que divide o conjunto de dados __exatamente__ ao meio (em conjuntos de tamanho par é a média do dois valores centrais), por esse motivo que devemos tornar o conjunto de dados em ordem crescente.\n",
    "\n",
    "__Moda:__ é o valor que mais se repete no conjunto de dados, pode não haver nenhum e poder haver multiplos valore modais.\n",
    "\n",
    "O uso de uma (ou mais) medidas de tendência depende da _sensibilidade estatística_ do pesquisador, a partir do que cada uma representa e da necessidade."
   ]
  },
  {
   "cell_type": "code",
   "execution_count": 6,
   "id": "48e2d1e3",
   "metadata": {
    "scrolled": true
   },
   "outputs": [
    {
     "name": "stdout",
     "output_type": "stream",
     "text": [
      "Média: 6.37\n",
      "Mediana: 7.2\n",
      "Moda: 10\n"
     ]
    }
   ],
   "source": [
    "# Mean\n",
    "mean_value = np.around(mean(values),2)\n",
    "print('Média: {}'.format(mean_value))\n",
    "\n",
    "# Median\n",
    "median_value = np.around(median(values),2)\n",
    "print('Mediana: {}'.format(median_value))\n",
    "\n",
    "# Mode\n",
    "mode_value = np.around(mode(values),2)\n",
    "print('Moda: {}'.format(mode_value))"
   ]
  },
  {
   "cell_type": "markdown",
   "id": "d3b2a386",
   "metadata": {},
   "source": [
    "Neste situação, vemos que média das notas obtidas pelos 41 estudantes é de 6.37, a nota que divide o conjunto de dados ao meio é 7.2 e a nota mais frequente no conjunto de dados é 10."
   ]
  },
  {
   "cell_type": "markdown",
   "id": "8e2006b3",
   "metadata": {},
   "source": [
    "Com esses dados podemos criar um gráfico _Boxplot_"
   ]
  },
  {
   "cell_type": "code",
   "execution_count": 7,
   "id": "2e0889c0",
   "metadata": {},
   "outputs": [
    {
     "data": {
      "text/plain": [
       "Text(1.1, 7.2, '7.2')"
      ]
     },
     "execution_count": 7,
     "metadata": {},
     "output_type": "execute_result"
    },
    {
     "data": {
      "image/png": "[encoded data removed]",
      "text/plain": [
       "<Figure size 576x396 with 1 Axes>"
      ]
     },
     "metadata": {},
     "output_type": "display_data"
    }
   ],
   "source": [
    "plt.boxplot(values)\n",
    "plt.title('Boxplot - Notas obtidas por 41 estudante de matemática no ano de 2020.')\n",
    "plt.ylabel('Notas')\n",
    "plt.text(1.1, median_value, str(median_value))"
   ]
  },
  {
   "cell_type": "markdown",
   "id": "84533a1e",
   "metadata": {},
   "source": [
    "Podemos observar que não há _outliers_ no conjunto de dados. Além disso, vemos 3 quartis (ou 75%) dos dados estão acima da nota 5 (aproximadamente).\n",
    "\n",
    "Para construção da tabela de distribuição de frequência precisamos compreender a nossa variável, recomenda-se a leitura do _notebook_ sobre classificação de variáveis. A variável do exemplo dado, sobre a notas de 41 estudantes da disciplina de matemática, é classificada como quantitativa contínua, onde o número real vária de 0 a 10, inclusive o 10.\n",
    "\n",
    "Após a classificação do tipo da variável, podemos entender melhor como ocorrerá a construção da tabela de distribuição de frequência. Primeiramente, precisamos obter o número de classes e a amplitude de cada classe. Nesta tabela todas a classes terão amplitude iguais, porém a situações em que podem ser encontradas ou pode haver necessidade de ter em uma mesma tabela classes com amplitudes diferentes."
   ]
  },
  {
   "cell_type": "code",
   "execution_count": 8,
   "id": "4e58c3ef",
   "metadata": {},
   "outputs": [],
   "source": [
    "number_of_elements = np.size(values)\n",
    "number_of_classes =  ceil(sqrt(number_of_elements))\n",
    "total_amplitude = max(values) - min(values)\n",
    "class_breadth = np.around(((max(values) - min(values)) / number_of_classes),2)"
   ]
  },
  {
   "cell_type": "markdown",
   "id": "110c0aea",
   "metadata": {},
   "source": [
    "Criar uma lista com o limite inferior de cada classe."
   ]
  },
  {
   "cell_type": "code",
   "execution_count": 9,
   "id": "14d02c96",
   "metadata": {},
   "outputs": [],
   "source": [
    "inferior_limits = []\n",
    "for value in range(0,number_of_classes):\n",
    "    element = min(values) + (class_breadth * value)\n",
    "    inferior_limits.insert(value, np.around(element,2))"
   ]
  },
  {
   "cell_type": "markdown",
   "id": "b01b5b1c",
   "metadata": {},
   "source": [
    "Criar uma lista com o limite superior de cada classe."
   ]
  },
  {
   "cell_type": "code",
   "execution_count": 11,
   "id": "83825466",
   "metadata": {},
   "outputs": [],
   "source": [
    "upper_limits = []\n",
    "for value in inferior_limits:\n",
    "    upper_limit = np.around(value + class_breadth, 2)\n",
    "    upper_limits.append(upper_limit)"
   ]
  },
  {
   "cell_type": "markdown",
   "id": "ae98e939",
   "metadata": {},
   "source": [
    "Criar um multi index com os limites inferiores e os limites superiores."
   ]
  },
  {
   "cell_type": "code",
   "execution_count": 13,
   "id": "7fd43ade",
   "metadata": {},
   "outputs": [],
   "source": [
    "classes = [inferior_limits, upper_limits]\n",
    "classes = pd.MultiIndex.from_arrays(classes, names=['Limite inferior', 'Limite superior'])"
   ]
  },
  {
   "cell_type": "markdown",
   "id": "6f4014a4",
   "metadata": {},
   "source": [
    "Criar uma lista com a frequência absoluta de cada classe."
   ]
  },
  {
   "cell_type": "code",
   "execution_count": 14,
   "id": "57a55b81",
   "metadata": {},
   "outputs": [],
   "source": [
    "#fi: absolute frequency\n",
    "fi = []\n",
    "fi_counter = 0\n",
    "for value in range(0,number_of_classes):\n",
    "    frequency = 0\n",
    "    for value_02 in values:\n",
    "        if fi_counter < number_of_classes - 1:    \n",
    "            if value_02 >= inferior_limits[fi_counter] and value_02 < inferior_limits[fi_counter + 1]:\n",
    "                frequency +=1\n",
    "        if fi_counter == number_of_classes - 1:\n",
    "            if value_02 >= inferior_limits[fi_counter]:\n",
    "                frequency += 1\n",
    "    fi.insert(fi_counter,frequency)\n",
    "    fi_counter +=1"
   ]
  },
  {
   "cell_type": "markdown",
   "id": "35fea3db",
   "metadata": {},
   "source": [
    "Criar uma lista com a frequência relativa de cada classe. Essa lista é criada a partir da lista de frequência absoluta."
   ]
  },
  {
   "cell_type": "code",
   "execution_count": 15,
   "id": "b0686f4d",
   "metadata": {},
   "outputs": [],
   "source": [
    "#fi_relative: relative frequency\n",
    "fi_relative = []\n",
    "for value in range(0, number_of_classes):\n",
    "    element = fi[value] / number_of_elements\n",
    "    fi_relative.append(np.around(element, 5))"
   ]
  },
  {
   "cell_type": "markdown",
   "id": "a98e4830",
   "metadata": {},
   "source": [
    "Converter o valor de cada valor da lista de frequência relativa para a forma por cento (%)."
   ]
  },
  {
   "cell_type": "code",
   "execution_count": 16,
   "id": "48422509",
   "metadata": {},
   "outputs": [],
   "source": [
    "#_100fi_relative: relative (in %) frequency\n",
    "_100fi_relative = list(map(lambda value: np.around(value * 100, 2), fi_relative))"
   ]
  },
  {
   "cell_type": "markdown",
   "id": "a414ca22",
   "metadata": {},
   "source": [
    "Função _cumulate_: dado uma lista de valores, retorna uma lista com os seus valores acumulados, por exemplo, list_accumulated[0] = values[0]; list_accumulated[1] = values[0] + values[1]; e assim sucessivamente."
   ]
  },
  {
   "cell_type": "code",
   "execution_count": 17,
   "id": "b25b7ad8",
   "metadata": {},
   "outputs": [],
   "source": [
    "def cumulate(values):\n",
    "    list_accumulated = [values[0]]\n",
    "    for counter in range(1, len(values)):\n",
    "        element = list_accumulated[counter - 1] + values[counter]\n",
    "        element = np.around(element, 2)\n",
    "        list_accumulated.append(element)\n",
    "    \n",
    "    return list_accumulated "
   ]
  },
  {
   "cell_type": "markdown",
   "id": "42411288",
   "metadata": {},
   "source": [
    "Utilização da função _cumulate_ para obter uma lista com a frequencia absoluta acumulada."
   ]
  },
  {
   "cell_type": "code",
   "execution_count": 18,
   "id": "ccf061a1",
   "metadata": {},
   "outputs": [],
   "source": [
    "#fi: cumulative absolute frequency\n",
    "fi_accumulated = cumulate(fi)"
   ]
  },
  {
   "cell_type": "markdown",
   "id": "436b2602",
   "metadata": {},
   "source": [
    "Utilização da função _cumulate_ para obter uma lista com a frequencia absoluta acumulada."
   ]
  },
  {
   "cell_type": "code",
   "execution_count": 19,
   "id": "fd7370ba",
   "metadata": {},
   "outputs": [],
   "source": [
    "#_100fi_relative: cumulative relative (in %) frequency\n",
    "_100fi_relative_accumulated = cumulate(_100fi_relative)"
   ]
  },
  {
   "cell_type": "markdown",
   "id": "7eb40e44",
   "metadata": {},
   "source": [
    "Criar uma lista com o ponto médio de cada classe.\n",
    "\n",
    "O ponto médio é utilizado somente quando a variável é quantitativa e a sua finalidade é representar a classe na qual está associada."
   ]
  },
  {
   "cell_type": "code",
   "execution_count": 20,
   "id": "52b7b1eb",
   "metadata": {},
   "outputs": [],
   "source": [
    "midpoint_lambda = lambda value: np.around((inferior_limits[value] + upper_limits[value]) / 2, 2)\n",
    "midpoint = list(map(midpoint_lambda, range(0,7)))"
   ]
  },
  {
   "cell_type": "markdown",
   "id": "a782a9ff",
   "metadata": {},
   "source": [
    "Contruir o DataFrame."
   ]
  },
  {
   "cell_type": "code",
   "execution_count": 21,
   "id": "22e8ffb5",
   "metadata": {},
   "outputs": [],
   "source": [
    "data_names = ['Fi', 'Fi (%)', 'Fi Acumulado', 'Fi (%) Acumulado', 'Ponto médio']\n",
    "data_values = [fi, _100fi_relative, fi_accumulated, _100fi_relative_accumulated, midpoint]\n",
    "data = {}\n",
    "for value in range(0, len(data_names)):\n",
    "    data[data_names[value]] = data_values[value]\n"
   ]
  },
  {
   "cell_type": "code",
   "execution_count": 22,
   "id": "a514f252",
   "metadata": {},
   "outputs": [],
   "source": [
    "frequency_distribution = pd.DataFrame(index=classes, data=data)"
   ]
  },
  {
   "cell_type": "code",
   "execution_count": 23,
   "id": "d97b3b1c",
   "metadata": {},
   "outputs": [
    {
     "data": {
      "text/html": [
       "<div>\n",
       "<style scoped>\n",
       "    .dataframe tbody tr th:only-of-type {\n",
       "        vertical-align: middle;\n",
       "    }\n",
       "\n",
       "    .dataframe tbody tr th {\n",
       "        vertical-align: top;\n",
       "    }\n",
       "\n",
       "    .dataframe thead th {\n",
       "        text-align: right;\n",
       "    }\n",
       "</style>\n",
       "<table border=\"1\" class=\"dataframe\">\n",
       "  <thead>\n",
       "    <tr style=\"text-align: right;\">\n",
       "      <th></th>\n",
       "      <th></th>\n",
       "      <th>Fi</th>\n",
       "      <th>Fi (%)</th>\n",
       "      <th>Fi Acumulado</th>\n",
       "      <th>Fi (%) Acumulado</th>\n",
       "      <th>Ponto médio</th>\n",
       "    </tr>\n",
       "    <tr>\n",
       "      <th>Limite inferior</th>\n",
       "      <th>Limite superior</th>\n",
       "      <th></th>\n",
       "      <th></th>\n",
       "      <th></th>\n",
       "      <th></th>\n",
       "      <th></th>\n",
       "    </tr>\n",
       "  </thead>\n",
       "  <tbody>\n",
       "    <tr>\n",
       "      <th>0.00</th>\n",
       "      <th>1.43</th>\n",
       "      <td>4</td>\n",
       "      <td>9.76</td>\n",
       "      <td>4</td>\n",
       "      <td>9.76</td>\n",
       "      <td>0.72</td>\n",
       "    </tr>\n",
       "    <tr>\n",
       "      <th>1.43</th>\n",
       "      <th>2.86</th>\n",
       "      <td>5</td>\n",
       "      <td>12.20</td>\n",
       "      <td>9</td>\n",
       "      <td>21.96</td>\n",
       "      <td>2.14</td>\n",
       "    </tr>\n",
       "    <tr>\n",
       "      <th>2.86</th>\n",
       "      <th>4.29</th>\n",
       "      <td>1</td>\n",
       "      <td>2.44</td>\n",
       "      <td>10</td>\n",
       "      <td>24.40</td>\n",
       "      <td>3.58</td>\n",
       "    </tr>\n",
       "    <tr>\n",
       "      <th>4.29</th>\n",
       "      <th>5.72</th>\n",
       "      <td>7</td>\n",
       "      <td>17.07</td>\n",
       "      <td>17</td>\n",
       "      <td>41.47</td>\n",
       "      <td>5.00</td>\n",
       "    </tr>\n",
       "    <tr>\n",
       "      <th>5.72</th>\n",
       "      <th>7.15</th>\n",
       "      <td>3</td>\n",
       "      <td>7.32</td>\n",
       "      <td>20</td>\n",
       "      <td>48.79</td>\n",
       "      <td>6.44</td>\n",
       "    </tr>\n",
       "    <tr>\n",
       "      <th>7.15</th>\n",
       "      <th>8.58</th>\n",
       "      <td>7</td>\n",
       "      <td>17.07</td>\n",
       "      <td>27</td>\n",
       "      <td>65.86</td>\n",
       "      <td>7.86</td>\n",
       "    </tr>\n",
       "    <tr>\n",
       "      <th>8.58</th>\n",
       "      <th>10.01</th>\n",
       "      <td>14</td>\n",
       "      <td>34.15</td>\n",
       "      <td>41</td>\n",
       "      <td>100.01</td>\n",
       "      <td>9.30</td>\n",
       "    </tr>\n",
       "  </tbody>\n",
       "</table>\n",
       "</div>"
      ],
      "text/plain": [
       "                                 Fi  Fi (%)  Fi Acumulado  Fi (%) Acumulado  \\\n",
       "Limite inferior Limite superior                                               \n",
       "0.00            1.43              4    9.76             4              9.76   \n",
       "1.43            2.86              5   12.20             9             21.96   \n",
       "2.86            4.29              1    2.44            10             24.40   \n",
       "4.29            5.72              7   17.07            17             41.47   \n",
       "5.72            7.15              3    7.32            20             48.79   \n",
       "7.15            8.58              7   17.07            27             65.86   \n",
       "8.58            10.01            14   34.15            41            100.01   \n",
       "\n",
       "                                 Ponto médio  \n",
       "Limite inferior Limite superior               \n",
       "0.00            1.43                    0.72  \n",
       "1.43            2.86                    2.14  \n",
       "2.86            4.29                    3.58  \n",
       "4.29            5.72                    5.00  \n",
       "5.72            7.15                    6.44  \n",
       "7.15            8.58                    7.86  \n",
       "8.58            10.01                   9.30  "
      ]
     },
     "execution_count": 23,
     "metadata": {},
     "output_type": "execute_result"
    }
   ],
   "source": [
    "frequency_distribution"
   ]
  },
  {
   "cell_type": "markdown",
   "id": "f8c3c1aa",
   "metadata": {},
   "source": [
    "_Plots_ com algumas informações da tabela."
   ]
  },
  {
   "cell_type": "code",
   "execution_count": 32,
   "id": "f07677de",
   "metadata": {},
   "outputs": [
    {
     "data": {
      "text/plain": [
       "<matplotlib.legend.Legend at 0x7f99c96a7520>"
      ]
     },
     "execution_count": 32,
     "metadata": {},
     "output_type": "execute_result"
    },
    {
     "data": {
      "image/png": "[encoded data removed]",
      "text/plain": [
       "<Figure size 1080x504 with 2 Axes>"
      ]
     },
     "metadata": {},
     "output_type": "display_data"
    }
   ],
   "source": [
    "figure = plt.figure(figsize=(15,7))\n",
    "figure.suptitle('Gráficos da distribuição das notas obtidas por 41 estudantes da disciplina de Matemática no ano de 2020.')\n",
    "plots = figure.subplots(nrows=1, ncols=2)\n",
    "\n",
    "plots[0].bar(frequency_distribution['Ponto médio'], frequency_distribution['Fi'])\n",
    "plots[0].set_title('Frequência absoluta')\n",
    "plots[0].set_ylabel('Nota')\n",
    "plots[0].set_xticks(midpoint)\n",
    "\n",
    "plots[1].pie(x=frequency_distribution['Fi (%)'], labels=_100fi_relative)\n",
    "plots[1].set_title('Distribuição (em %) das notas obtidas por 41 estudantes da diciplina de matemática.')\n",
    "plots[1].legend(bbox_to_anchor=(0.9,0.2,0.5,0.5), title='Legenda', labels=classes)"
   ]
  },
  {
   "cell_type": "code",
   "execution_count": 25,
   "id": "3ea6fda9",
   "metadata": {},
   "outputs": [
    {
     "data": {
      "text/plain": [
       "14"
      ]
     },
     "execution_count": 25,
     "metadata": {},
     "output_type": "execute_result"
    }
   ],
   "source": [
    "frequency_distribution[:]['Fi'].iloc[6]"
   ]
  },
  {
   "cell_type": "markdown",
   "id": "8c128244",
   "metadata": {},
   "source": [
    "## Referências:\n",
    "\n",
    "BUSSAB, Wilton de O.; MORETTIN, Pedro A. Estatística Básica. 5ª edição. São Paulo: Editora Saraiva, 2004."
   ]
  },
  {
   "cell_type": "code",
   "execution_count": null,
   "id": "e390d53f",
   "metadata": {},
   "outputs": [],
   "source": []
  }
 ],
 "metadata": {
  "kernelspec": {
   "display_name": "Python 3 (ipykernel)",
   "language": "python",
   "name": "python3"
  },
  "language_info": {
   "codemirror_mode": {
    "name": "ipython",
    "version": 3
   },
   "file_extension": ".py",
   "mimetype": "text/x-python",
   "name": "python",
   "nbconvert_exporter": "python",
   "pygments_lexer": "ipython3",
   "version": "3.8.10"
  }
 },
 "nbformat": 4,
 "nbformat_minor": 5
}
