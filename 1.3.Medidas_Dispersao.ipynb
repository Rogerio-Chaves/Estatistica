{
 "cells": [
  {
   "cell_type": "markdown",
   "id": "5f48b370",
   "metadata": {},
   "source": [
    "# 1.3.  Medidas de Dispersão\n",
    "\n",
    "Created on September 03 2022\n",
    "\n",
    "@author: Rogerio Chaves\n",
    "\n",
    "E-mail: chaves.rogerio@outlook.com"
   ]
  },
  {
   "cell_type": "markdown",
   "id": "f731cf15",
   "metadata": {},
   "source": [
    "As medidas de dispersão (ou variabilidade) são medidas que buscam representar a dispersão dos dados em relação a média. A importância dessas medidas é que ao observar-se um conjunto de dados  por somente a medida de posição, podemos perder informações importantes de como esses dados estão distribuídos (diferentes conjuntos de dados de uma variável podem ter um mesmo valor de média). (BUSSAB e MORETTIN, 2004)\n",
    "\n",
    "Além disso, quando calculamos a dispersão da observação em relação a media podemos ter problemas devido as observações que estão acima ou abaixo da média, positivos e negativos respectivamente, que em uma soma causaria dano na observação da dispersão dos dados (anulação em parte ou em todo do desvio de uma observação com outra). Por esse motivo, a soma dos desvios não é uma boa medida de dispersão. (BUSSAB e MORETTIN, 2004)"
   ]
  },
  {
   "cell_type": "markdown",
   "id": "dbfb47fa",
   "metadata": {},
   "source": [
    "## Dados não agrupados"
   ]
  },
  {
   "cell_type": "markdown",
   "id": "08bc99ca",
   "metadata": {},
   "source": [
    "Por exemplo, dado o conjunto de dados a seguir,\n",
    "\n",
    "<center>10, 70, 20, 40, 50, 60, 70, 80, 10, 90</center>\n",
    "\n",
    "Vamos calcular a média,\n",
    "\n",
    "<center>$  \\bar {x}  = \\frac{ x_{1} + x_{2} + ... + x_{n} }{ n } $</center>\n",
    "\n",
    "<center>$  \\bar {x}  = \\frac{ 10 + 70 + 20 + 40 + 50 + 60 + 70 + 80 + 10 + 90 }{ 10 } $</center>\n",
    "\n",
    "<center>$  \\bar {x}  = \\frac{ 500 }{ 10 } = 50 $</center>\n",
    "\n",
    "Dado a média, vamos calcular o desvio de cada observação em relação a média,\n",
    "\n",
    "$ x_{1} - \\bar{x} = 10 – 50 = -40 $\n",
    "\n",
    "$ x_{2} - \\bar{x} = 70 – 50 = 20 $\n",
    "\n",
    "$ x_{3} - \\bar{x} = 20 – 50 = -30 $\n",
    "\n",
    "$ x_{4} - \\bar{x} = 40 – 50 = -10 $\n",
    "\n",
    "$ x_{5} - \\bar{x} = 50 – 50 = 0 $\n",
    "\n",
    "$ x_{6} - \\bar{x} = 60 – 50 = 10 $\n",
    "\n",
    "$ x_{7} - \\bar{x} = 70 – 50 = 20 $\n",
    "\n",
    "$ x_{8} - \\bar{x} = 80 – 50 = 30 $\n",
    "\n",
    "$ x_{9} - \\bar{x} = 10 – 50 = -40 $\n",
    "\n",
    "$ x_{10} - \\bar{x} = 90 – 50 = 40 $\n",
    "\n",
    "Que resulta em,\n",
    "\n",
    "<center>-40, 20, -30, -10, 0, 10, 20, 30, -40, 40</center>\n",
    "\n",
    "Ao observarmos os valores dos desvios de cada observação em relação a média, vemos que, conforme dito anteriormente, a soma dos valores negativos com os positivos causaria dano a observação da dispersão, o que ocasionaria em uma medida não muito boa. Assim, para resolver esse problema calculamos em termos desvio médio absoluto ou em termos da média dos quadrados dos desvios, chamados de <b>desvio médio</b> e <b>variância</b> respectivamente."
   ]
  },
  {
   "cell_type": "markdown",
   "id": "7e40ad2b",
   "metadata": {},
   "source": [
    "### Desvio Médio\n",
    "\n",
    "<center> \n",
    "    $ dm(x)  = \\frac{ | x_{1} -  \\bar x  |  + | x_{2} - \\bar x |  + ... + | x_{n} - \\bar x |  }{ n } = \\frac{\\sum_{ i=1 }^{ n } | x_{i} - \\bar x |}{ n }$ </center>\n",
    "    \n",
    "Por exemplo, dado o seguinte conjunto vamos calcular o desvio médio.\n",
    "<center>9.5, 10, 8, 7.5, 8.2</center>\n",
    "\n",
    "Vamos iniciar com o cálculo da média do conjunto de dados.\n",
    "\n",
    "<center> $  \\bar {x}  = \\frac{ x_{1} + x_{2} + ... + x_{n} }{ n } $ </center>\n",
    "\n",
    "<center> $  \\bar{x}  = \\frac{ 9.5 + 10 + 8 + 7.5 + 8.2 }{ 5 } = \\frac{ 43,2 }{ 5 } = 8.64 $ </center>\n",
    "\n",
    "Agora que temos a média vamos calcular o desvio médio.\n",
    "\n",
    "<center> $ dm(x)  = \\frac{ | 9.5 -  8.64  |  + | 10 - 8.64 |  + | 8 - 8.64 | + | 7.5 - 8.64 | + | 8.2 - 8.64 | }{ 5}$ </center>\n",
    "\n",
    "<center> $ dm(x)  = \\frac{ | 0.86  |  + | 1.36 |  + | - 0.64 | + | -1.14 | + | -0.44 | }{ 5 }$ </center>\n",
    "\n",
    "<center> $ dm(x)  = \\frac{ 0.86 + 1.36 + 0.64 + 1.14 + 0.44  }{ 5 } =\\frac{ 4.44 }{ 5 } = 0.888 $ </center>"
   ]
  },
  {
   "cell_type": "code",
   "execution_count": 9,
   "id": "2f325f14",
   "metadata": {},
   "outputs": [],
   "source": [
    "def media_aritmetica(valores):\n",
    "    soma = 0\n",
    "    n = len(valores)\n",
    "    \n",
    "    for i in range(0,n):\n",
    "        soma += valores[i]\n",
    "        \n",
    "    media = soma / n\n",
    "    \n",
    "    return media"
   ]
  },
  {
   "cell_type": "code",
   "execution_count": 10,
   "id": "85b67222",
   "metadata": {},
   "outputs": [],
   "source": [
    "def desvio_medio(valores):\n",
    "    media = media_aritmetica(valores)\n",
    "    n = len(valores)\n",
    "    dm = 0\n",
    "    \n",
    "    for valor in valores:\n",
    "        desvio = abs(valor - media)\n",
    "        dm += desvio\n",
    "        \n",
    "    dm = dm / n\n",
    "    return dm"
   ]
  },
  {
   "cell_type": "code",
   "execution_count": 11,
   "id": "f89cec6d",
   "metadata": {},
   "outputs": [
    {
     "name": "stdout",
     "output_type": "stream",
     "text": [
      "Desvio médio: 0.8880000000000002\n"
     ]
    }
   ],
   "source": [
    "valores = [9.5, 10, 8, 7.5, 8.2]\n",
    "dm = desvio_medio(valores)\n",
    "\n",
    "print(f'Desvio médio: {dm:}')"
   ]
  },
  {
   "cell_type": "markdown",
   "id": "00a2f930",
   "metadata": {},
   "source": [
    "### Variância\n",
    "\n",
    "<center> \n",
    "    $ var(x)  = \\frac{ ( x_{1} -  \\bar x  )^{2}  + (x_{2} - \\bar x)^{2}  + ... + (x_{n} - \\bar x)^{2}  }{ n } = \n",
    "    \\frac{\\sum_{ i=1 }^{ n }{(x_{i} - \\bar x)^2}}{ n } $ </center>\n",
    "    \n",
    "Dado o mesmo conjunto de dados do exemplo anterior vamos calcular a variância.\n",
    "\n",
    "<center> $ var(x)  = \\frac{ ( 9.5 -  8.64  )^{2}  + (10 - 8.64)^{2}  + (8 - 8.64)^{2} + (7.5 - 8.64)^{2} + (8.2 - 8.64)^{2}  }{5}$ </center>\n",
    "\n",
    "<center> $ var(x)  = \\frac{ ( 0.86  )^{2}  + (1.36)^{2}  + (-0.64)^{2} + (-1.14)^{2} + (-0.44)^{2}  }{ 5 } $ </center>\n",
    "\n",
    "<center> $ var(x)  = \\frac{ 0.7396  + 1.8496  + 0.4096 + 1.2996 + 0.1936  }{ 5 } = \\frac{ 4.492 }{ 5 } = 0.8984 $ </center>"
   ]
  },
  {
   "cell_type": "code",
   "execution_count": 12,
   "id": "9dea8405",
   "metadata": {},
   "outputs": [],
   "source": [
    "def variancia(valores):\n",
    "    media = media_aritmetica(valores)\n",
    "    n = len(valores)\n",
    "    variancia = 0\n",
    "    \n",
    "    for valor in valores:\n",
    "        desvio = (valor - media)** 2\n",
    "        variancia += desvio\n",
    "        \n",
    "    variancia = variancia / n\n",
    "    \n",
    "    return variancia"
   ]
  },
  {
   "cell_type": "code",
   "execution_count": 13,
   "id": "91919737",
   "metadata": {},
   "outputs": [
    {
     "name": "stdout",
     "output_type": "stream",
     "text": [
      "Variância: 0.8984\n"
     ]
    }
   ],
   "source": [
    "var = variancia(valores)\n",
    "\n",
    "print(f'Variância: {var}')"
   ]
  },
  {
   "cell_type": "markdown",
   "id": "46e1b078",
   "metadata": {},
   "source": [
    "### Desvio Padrão\n",
    "\n",
    "Além disso, temos a medida de <b>desvio padrão</b>, que obtemos a partir da raiz quadrada da variância\n",
    "\n",
    "<center> $ dp(x)  = \\sqrt( var(x) ) $ </center>\n",
    "\n",
    "<center> $ dp(x)  = \\sqrt{ \\frac{ ( x_{1} -  \\bar x  )^{2}  + (x_{2} - \\bar x)^{2}  + ... + (x_{n} - \\bar x)^{2}  }{ n }} = \\sqrt{ \\frac{\\sum_{ i=1 }^{ n }{ (x_{i} - \\bar x)^²}}{ n } } $ </center>\n",
    "\n",
    "Para o exemplo do conjunto de dados acima vamos calcular o desvio padrão.\n",
    "\n",
    "<center> $ dp(x)  = \\sqrt{ 0.8984 } \\approx 0.9478  $ </center>"
   ]
  },
  {
   "cell_type": "code",
   "execution_count": 14,
   "id": "ae16b7e1",
   "metadata": {},
   "outputs": [],
   "source": [
    "def desvio_padrao(valores):\n",
    "    return variancia(valores) ** (1/2)"
   ]
  },
  {
   "cell_type": "code",
   "execution_count": 15,
   "id": "8c408d48",
   "metadata": {},
   "outputs": [
    {
     "name": "stdout",
     "output_type": "stream",
     "text": [
      "Desvio padrão: 0.9478396488858228\n"
     ]
    }
   ],
   "source": [
    "dp = desvio_padrao(valores)\n",
    "\n",
    "print(f'Desvio padrão: {dp}')"
   ]
  },
  {
   "cell_type": "markdown",
   "id": "c11154db",
   "metadata": {},
   "source": [
    "## Referências:\n",
    "\n",
    "BUSSAB, Wilton de O.; MORETTIN, Pedro A. Estatística Básica. 5ª edição. São Paulo: Editora Saraiva, 2004."
   ]
  }
 ],
 "metadata": {
  "kernelspec": {
   "display_name": "Python 3 (ipykernel)",
   "language": "python",
   "name": "python3"
  },
  "language_info": {
   "codemirror_mode": {
    "name": "ipython",
    "version": 3
   },
   "file_extension": ".py",
   "mimetype": "text/x-python",
   "name": "python",
   "nbconvert_exporter": "python",
   "pygments_lexer": "ipython3",
   "version": "3.8.10"
  }
 },
 "nbformat": 4,
 "nbformat_minor": 5
}
